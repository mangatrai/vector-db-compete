{
  "cells": [
    {
      "cell_type": "markdown",
      "metadata": {
        "id": "CSGnMReOKRjJ"
      },
      "source": [
        "**Before getting started with the code examples**\n",
        "<br>For Python, you will need to create a virtual environment and install the following Python packages:\n",
        "\n",
        "1. redis\n",
        "2. pandas\n",
        "3. sentence-transformers\n",
        "4. (optional) tabulate; this package is used by Pandas to convert dataframe tables to Markdown\n",
        "\n"
      ]
    },
    {
      "cell_type": "code",
      "execution_count": 43,
      "metadata": {
        "id": "YY3y4BeLKHUi"
      },
      "outputs": [
        {
          "name": "stdout",
          "output_type": "stream",
          "text": [
            "huggingface/tokenizers: The current process just got forked, after parallelism has already been used. Disabling parallelism to avoid deadlocks...\n",
            "To disable this warning, you can either:\n",
            "\t- Avoid using `tokenizers` before the fork if possible\n",
            "\t- Explicitly set the environment variable TOKENIZERS_PARALLELISM=(true | false)\n",
            "Requirement already satisfied: redis in /opt/homebrew/lib/python3.11/site-packages (5.0.0)\n",
            "Requirement already satisfied: pandas in /opt/homebrew/lib/python3.11/site-packages (2.0.3)\n",
            "Requirement already satisfied: sentence-transformers in /opt/homebrew/lib/python3.11/site-packages (2.2.2)\n",
            "Requirement already satisfied: tabulate in /opt/homebrew/lib/python3.11/site-packages (0.9.0)\n",
            "Requirement already satisfied: python-dateutil>=2.8.2 in /opt/homebrew/lib/python3.11/site-packages (from pandas) (2.8.2)\n",
            "Requirement already satisfied: pytz>=2020.1 in /opt/homebrew/lib/python3.11/site-packages (from pandas) (2023.3)\n",
            "Requirement already satisfied: tzdata>=2022.1 in /opt/homebrew/lib/python3.11/site-packages (from pandas) (2023.3)\n",
            "Requirement already satisfied: numpy>=1.21.0 in /opt/homebrew/lib/python3.11/site-packages (from pandas) (1.26.0)\n",
            "Requirement already satisfied: transformers<5.0.0,>=4.6.0 in /opt/homebrew/lib/python3.11/site-packages (from sentence-transformers) (4.33.2)\n",
            "Requirement already satisfied: tqdm in /opt/homebrew/lib/python3.11/site-packages (from sentence-transformers) (4.66.1)\n",
            "Requirement already satisfied: torch>=1.6.0 in /opt/homebrew/lib/python3.11/site-packages (from sentence-transformers) (2.0.1)\n",
            "Requirement already satisfied: torchvision in /opt/homebrew/lib/python3.11/site-packages (from sentence-transformers) (0.15.2)\n",
            "Requirement already satisfied: scikit-learn in /opt/homebrew/lib/python3.11/site-packages (from sentence-transformers) (1.3.0)\n",
            "Requirement already satisfied: scipy in /opt/homebrew/lib/python3.11/site-packages (from sentence-transformers) (1.11.2)\n",
            "Requirement already satisfied: nltk in /opt/homebrew/lib/python3.11/site-packages (from sentence-transformers) (3.8.1)\n",
            "Requirement already satisfied: sentencepiece in /opt/homebrew/lib/python3.11/site-packages (from sentence-transformers) (0.1.99)\n",
            "Requirement already satisfied: huggingface-hub>=0.4.0 in /opt/homebrew/lib/python3.11/site-packages (from sentence-transformers) (0.17.2)\n",
            "Requirement already satisfied: filelock in /opt/homebrew/lib/python3.11/site-packages (from huggingface-hub>=0.4.0->sentence-transformers) (3.12.4)\n",
            "Requirement already satisfied: fsspec in /opt/homebrew/lib/python3.11/site-packages (from huggingface-hub>=0.4.0->sentence-transformers) (2023.6.0)\n",
            "Requirement already satisfied: requests in /opt/homebrew/lib/python3.11/site-packages (from huggingface-hub>=0.4.0->sentence-transformers) (2.31.0)\n",
            "Requirement already satisfied: pyyaml>=5.1 in /opt/homebrew/lib/python3.11/site-packages (from huggingface-hub>=0.4.0->sentence-transformers) (6.0.1)\n",
            "Requirement already satisfied: typing-extensions>=3.7.4.3 in /opt/homebrew/lib/python3.11/site-packages (from huggingface-hub>=0.4.0->sentence-transformers) (4.7.1)\n",
            "Requirement already satisfied: packaging>=20.9 in /opt/homebrew/lib/python3.11/site-packages (from huggingface-hub>=0.4.0->sentence-transformers) (23.1)\n",
            "Requirement already satisfied: six>=1.5 in /opt/homebrew/lib/python3.11/site-packages (from python-dateutil>=2.8.2->pandas) (1.16.0)\n",
            "Requirement already satisfied: sympy in /opt/homebrew/lib/python3.11/site-packages (from torch>=1.6.0->sentence-transformers) (1.12)\n",
            "Requirement already satisfied: networkx in /opt/homebrew/lib/python3.11/site-packages (from torch>=1.6.0->sentence-transformers) (3.1)\n",
            "Requirement already satisfied: jinja2 in /opt/homebrew/lib/python3.11/site-packages (from torch>=1.6.0->sentence-transformers) (3.1.2)\n",
            "Requirement already satisfied: regex!=2019.12.17 in /opt/homebrew/lib/python3.11/site-packages (from transformers<5.0.0,>=4.6.0->sentence-transformers) (2023.8.8)\n",
            "Requirement already satisfied: tokenizers!=0.11.3,<0.14,>=0.11.1 in /opt/homebrew/lib/python3.11/site-packages (from transformers<5.0.0,>=4.6.0->sentence-transformers) (0.13.3)\n",
            "Requirement already satisfied: safetensors>=0.3.1 in /opt/homebrew/lib/python3.11/site-packages (from transformers<5.0.0,>=4.6.0->sentence-transformers) (0.3.3)\n",
            "Requirement already satisfied: click in /opt/homebrew/lib/python3.11/site-packages (from nltk->sentence-transformers) (8.1.7)\n",
            "Requirement already satisfied: joblib in /opt/homebrew/lib/python3.11/site-packages (from nltk->sentence-transformers) (1.3.2)\n",
            "Requirement already satisfied: threadpoolctl>=2.0.0 in /opt/homebrew/lib/python3.11/site-packages (from scikit-learn->sentence-transformers) (3.2.0)\n",
            "Requirement already satisfied: pillow!=8.3.*,>=5.3.0 in /opt/homebrew/lib/python3.11/site-packages (from torchvision->sentence-transformers) (9.5.0)\n",
            "Requirement already satisfied: MarkupSafe>=2.0 in /opt/homebrew/lib/python3.11/site-packages (from jinja2->torch>=1.6.0->sentence-transformers) (2.1.3)\n",
            "Requirement already satisfied: charset-normalizer<4,>=2 in /opt/homebrew/lib/python3.11/site-packages (from requests->huggingface-hub>=0.4.0->sentence-transformers) (3.2.0)\n",
            "Requirement already satisfied: idna<4,>=2.5 in /opt/homebrew/lib/python3.11/site-packages (from requests->huggingface-hub>=0.4.0->sentence-transformers) (3.4)\n",
            "Requirement already satisfied: urllib3<3,>=1.21.1 in /opt/homebrew/lib/python3.11/site-packages (from requests->huggingface-hub>=0.4.0->sentence-transformers) (2.0.4)\n",
            "Requirement already satisfied: certifi>=2017.4.17 in /opt/homebrew/lib/python3.11/site-packages (from requests->huggingface-hub>=0.4.0->sentence-transformers) (2023.7.22)\n",
            "Requirement already satisfied: mpmath>=0.19 in /opt/homebrew/lib/python3.11/site-packages (from sympy->torch>=1.6.0->sentence-transformers) (1.3.0)\n"
          ]
        }
      ],
      "source": [
        "!pip3 install redis pandas sentence-transformers tabulate"
      ]
    },
    {
      "cell_type": "markdown",
      "metadata": {
        "id": "bdOFoEA-LB74"
      },
      "source": [
        "# **Imports**"
      ]
    },
    {
      "cell_type": "code",
      "execution_count": 44,
      "metadata": {
        "id": "qRPUU-aNLEm2"
      },
      "outputs": [],
      "source": [
        "import json\n",
        "import time\n",
        "\n",
        "import numpy as np\n",
        "import pandas as pd\n",
        "import redis\n",
        "import requests\n",
        "from redis.commands.search.field import (\n",
        "    NumericField,\n",
        "    TagField,\n",
        "    TextField,\n",
        "    VectorField,\n",
        ")\n",
        "from redis.commands.search.indexDefinition import IndexDefinition, IndexType\n",
        "from redis.commands.search.query import Query\n",
        "from sentence_transformers import SentenceTransformer"
      ]
    },
    {
      "cell_type": "markdown",
      "metadata": {
        "id": "grVw6SL4LbV-"
      },
      "source": [
        "# **Loading json bikes dataset**"
      ]
    },
    {
      "cell_type": "code",
      "execution_count": 45,
      "metadata": {
        "id": "PFBXtpl0Lq3p"
      },
      "outputs": [
        {
          "data": {
            "text/html": [
              "<div>\n",
              "<style scoped>\n",
              "    .dataframe tbody tr th:only-of-type {\n",
              "        vertical-align: middle;\n",
              "    }\n",
              "\n",
              "    .dataframe tbody tr th {\n",
              "        vertical-align: top;\n",
              "    }\n",
              "\n",
              "    .dataframe thead th {\n",
              "        text-align: right;\n",
              "    }\n",
              "</style>\n",
              "<table border=\"1\" class=\"dataframe\">\n",
              "  <thead>\n",
              "    <tr style=\"text-align: right;\">\n",
              "      <th></th>\n",
              "      <th>model</th>\n",
              "      <th>brand</th>\n",
              "      <th>price</th>\n",
              "      <th>type</th>\n",
              "      <th>specs</th>\n",
              "      <th>description</th>\n",
              "    </tr>\n",
              "  </thead>\n",
              "  <tbody>\n",
              "    <tr>\n",
              "      <th>0</th>\n",
              "      <td>Jigger</td>\n",
              "      <td>Velorim</td>\n",
              "      <td>270</td>\n",
              "      <td>Kids bikes</td>\n",
              "      <td>{'material': 'aluminium', 'weight': '10'}</td>\n",
              "      <td>Small and powerful, the Jigger is the best rid...</td>\n",
              "    </tr>\n",
              "    <tr>\n",
              "      <th>1</th>\n",
              "      <td>Hillcraft</td>\n",
              "      <td>Bicyk</td>\n",
              "      <td>1200</td>\n",
              "      <td>Kids Mountain Bikes</td>\n",
              "      <td>{'material': 'carbon', 'weight': '11'}</td>\n",
              "      <td>Kids want to ride with as little weight as pos...</td>\n",
              "    </tr>\n",
              "    <tr>\n",
              "      <th>2</th>\n",
              "      <td>Chook air 5</td>\n",
              "      <td>Nord</td>\n",
              "      <td>815</td>\n",
              "      <td>Kids Mountain Bikes</td>\n",
              "      <td>{'material': 'alloy', 'weight': '9.1'}</td>\n",
              "      <td>The Chook Air 5  gives kids aged six years and...</td>\n",
              "    </tr>\n",
              "    <tr>\n",
              "      <th>3</th>\n",
              "      <td>Eva 291</td>\n",
              "      <td>Eva</td>\n",
              "      <td>3400</td>\n",
              "      <td>Mountain Bikes</td>\n",
              "      <td>{'material': 'carbon', 'weight': '9.1'}</td>\n",
              "      <td>The sister company to Nord, Eva launched in 20...</td>\n",
              "    </tr>\n",
              "    <tr>\n",
              "      <th>4</th>\n",
              "      <td>Kahuna</td>\n",
              "      <td>Noka Bikes</td>\n",
              "      <td>3200</td>\n",
              "      <td>Mountain Bikes</td>\n",
              "      <td>{'material': 'alloy', 'weight': '9.8'}</td>\n",
              "      <td>Whether you want to try your hand at XC racing...</td>\n",
              "    </tr>\n",
              "    <tr>\n",
              "      <th>5</th>\n",
              "      <td>XBN 2.1 Alloy</td>\n",
              "      <td>Breakout</td>\n",
              "      <td>810</td>\n",
              "      <td>Road Bikes</td>\n",
              "      <td>{'material': 'alloy', 'weight': '7.2'}</td>\n",
              "      <td>The XBN 2.1 Alloy is our entry-level road bike...</td>\n",
              "    </tr>\n",
              "    <tr>\n",
              "      <th>6</th>\n",
              "      <td>WattBike</td>\n",
              "      <td>ScramBikes</td>\n",
              "      <td>2300</td>\n",
              "      <td>eBikes</td>\n",
              "      <td>{'material': 'alloy', 'weight': '15'}</td>\n",
              "      <td>The WattBike is the best e-bike for people who...</td>\n",
              "    </tr>\n",
              "    <tr>\n",
              "      <th>7</th>\n",
              "      <td>Soothe Electric bike</td>\n",
              "      <td>Peaknetic</td>\n",
              "      <td>1950</td>\n",
              "      <td>eBikes</td>\n",
              "      <td>{'material': 'alloy', 'weight': '14.7'}</td>\n",
              "      <td>The Soothe is an everyday electric bike, from ...</td>\n",
              "    </tr>\n",
              "    <tr>\n",
              "      <th>8</th>\n",
              "      <td>Secto</td>\n",
              "      <td>Peaknetic</td>\n",
              "      <td>430</td>\n",
              "      <td>Commuter bikes</td>\n",
              "      <td>{'material': 'aluminium', 'weight': '10.0'}</td>\n",
              "      <td>If you struggle with stiff fingers or a kinked...</td>\n",
              "    </tr>\n",
              "    <tr>\n",
              "      <th>9</th>\n",
              "      <td>Summit</td>\n",
              "      <td>nHill</td>\n",
              "      <td>1200</td>\n",
              "      <td>Mountain Bike</td>\n",
              "      <td>{'material': 'alloy', 'weight': '11.3'}</td>\n",
              "      <td>This budget mountain bike from nHill performs ...</td>\n",
              "    </tr>\n",
              "    <tr>\n",
              "      <th>10</th>\n",
              "      <td>ThrillCycle</td>\n",
              "      <td>BikeShind</td>\n",
              "      <td>815</td>\n",
              "      <td>Commuter Bikes</td>\n",
              "      <td>{'material': 'alloy', 'weight': '12.7'}</td>\n",
              "      <td>An artsy,  retro-inspired bicycle that’s as fu...</td>\n",
              "    </tr>\n",
              "  </tbody>\n",
              "</table>\n",
              "</div>"
            ],
            "text/plain": [
              "                   model       brand  price                 type  \\\n",
              "0                 Jigger     Velorim    270           Kids bikes   \n",
              "1              Hillcraft       Bicyk   1200  Kids Mountain Bikes   \n",
              "2            Chook air 5        Nord    815  Kids Mountain Bikes   \n",
              "3                Eva 291         Eva   3400       Mountain Bikes   \n",
              "4                 Kahuna  Noka Bikes   3200       Mountain Bikes   \n",
              "5          XBN 2.1 Alloy    Breakout    810           Road Bikes   \n",
              "6               WattBike  ScramBikes   2300               eBikes   \n",
              "7   Soothe Electric bike   Peaknetic   1950               eBikes   \n",
              "8                  Secto   Peaknetic    430       Commuter bikes   \n",
              "9                 Summit       nHill   1200        Mountain Bike   \n",
              "10           ThrillCycle   BikeShind    815       Commuter Bikes   \n",
              "\n",
              "                                          specs  \\\n",
              "0     {'material': 'aluminium', 'weight': '10'}   \n",
              "1        {'material': 'carbon', 'weight': '11'}   \n",
              "2        {'material': 'alloy', 'weight': '9.1'}   \n",
              "3       {'material': 'carbon', 'weight': '9.1'}   \n",
              "4        {'material': 'alloy', 'weight': '9.8'}   \n",
              "5        {'material': 'alloy', 'weight': '7.2'}   \n",
              "6         {'material': 'alloy', 'weight': '15'}   \n",
              "7       {'material': 'alloy', 'weight': '14.7'}   \n",
              "8   {'material': 'aluminium', 'weight': '10.0'}   \n",
              "9       {'material': 'alloy', 'weight': '11.3'}   \n",
              "10      {'material': 'alloy', 'weight': '12.7'}   \n",
              "\n",
              "                                          description  \n",
              "0   Small and powerful, the Jigger is the best rid...  \n",
              "1   Kids want to ride with as little weight as pos...  \n",
              "2   The Chook Air 5  gives kids aged six years and...  \n",
              "3   The sister company to Nord, Eva launched in 20...  \n",
              "4   Whether you want to try your hand at XC racing...  \n",
              "5   The XBN 2.1 Alloy is our entry-level road bike...  \n",
              "6   The WattBike is the best e-bike for people who...  \n",
              "7   The Soothe is an everyday electric bike, from ...  \n",
              "8   If you struggle with stiff fingers or a kinked...  \n",
              "9   This budget mountain bike from nHill performs ...  \n",
              "10  An artsy,  retro-inspired bicycle that’s as fu...  "
            ]
          },
          "execution_count": 45,
          "metadata": {},
          "output_type": "execute_result"
        }
      ],
      "source": [
        "url = \"https://raw.githubusercontent.com/bsbodden/redis_vss_getting_started/main/data/bikes.json\"\n",
        "response = requests.get(url)\n",
        "bikes = response.json()\n",
        "pd.DataFrame(bikes)"
      ]
    },
    {
      "cell_type": "markdown",
      "metadata": {
        "id": "bIQFjhwLMHd_"
      },
      "source": [
        "Let's take a look at the structure of one of our bike JSON documents"
      ]
    },
    {
      "cell_type": "code",
      "execution_count": 46,
      "metadata": {
        "id": "ywCnd49VMJZp"
      },
      "outputs": [
        {
          "data": {
            "text/plain": [
              "'{\\n  \"model\": \"Jigger\",\\n  \"brand\": \"Velorim\",\\n  \"price\": 270,\\n  \"type\": \"Kids bikes\",\\n  \"specs\": {\\n    \"material\": \"aluminium\",\\n    \"weight\": \"10\"\\n  },\\n  \"description\": \"Small and powerful, the Jigger is the best ride for the smallest of tikes! This is the tiniest kids\\\\u2019 pedal bike on the market available without a coaster brake, the Jigger is the vehicle of choice for the rare tenacious little rider raring to go. We say rare because this smokin\\\\u2019 little bike is not ideal for a nervous first-time rider, but it\\\\u2019s a true giddy up for a true speedster. The Jigger is a 12 inch lightweight kids bicycle and it will meet your little one\\\\u2019s need for speed. It\\\\u2019s a single speed bike that makes learning to pump pedals simple and intuitive. It even has  a handle in the bottom of the saddle so you can easily help your child during training!  The Jigger is among the most lightweight children\\\\u2019s bikes on the planet. It is designed so that 2-3 year-olds fit comfortably in a molded ride position that allows for efficient riding, balanced handling and agility. The Jigger\\\\u2019s frame design and gears work together so your buddingbiker can stand up out of the seat, stop rapidly, rip over trails and pump tracks. The Jigger\\\\u2019s is amazing on dirt or pavement. Your tike will speed down the bike path in no time. The Jigger will ship with a coaster brake. A freewheel kit is provided at no cost. \"\\n}'"
            ]
          },
          "execution_count": 46,
          "metadata": {},
          "output_type": "execute_result"
        }
      ],
      "source": [
        "json.dumps(bikes[0], indent=2)"
      ]
    },
    {
      "cell_type": "markdown",
      "metadata": {
        "id": "yGCkdlBqMAm0"
      },
      "source": [
        "# **Generating text embeddings using SentenceTransformers**\n",
        "We will use the SentenceTransformers framework to generate embeddings for the bikes descriptions. Sentence-BERT (SBERT) is a BERT model modification that produces consistent and contextually rich sentence embeddings. SBERT improves tasks like semantic search and text grouping by allowing for efficient and meaningful comparison of sentence-level semantic similarity.\n",
        "\n",
        "**Selecting a suitable pre-trained model**\n",
        "<br>We must pick a suitable model based on the task at hand when generating embeddings. In our case, we want to query for bicycles using short sentences against the longer bicycle descriptions. This is referred to as asymmetric semantic search, often employed in cases where the search query and the documents being searched are of a different nature or structure. Suitable models for asymmetric semantic search include pre-trained MS MARCO models. MS MARCO models are optimized for understanding real-world queries and retrieving relevant responses. They are widely used in search engines, chatbots, and other AI applications. At the time this tutorial was written, the highest performing MS MARCO model tuned for cosine-similarity available in the SentenceTranformers package is msmarco-distilbert-base-v4.\n",
        "\n",
        "Let's load the model using the SentenceTransformer function:\n"
      ]
    },
    {
      "cell_type": "code",
      "execution_count": 47,
      "metadata": {
        "id": "OE-lXPj4P_wZ"
      },
      "outputs": [],
      "source": [
        "from sentence_transformers import SentenceTransformer\n",
        "\n",
        "embedder = SentenceTransformer('msmarco-distilbert-base-v4')"
      ]
    },
    {
      "cell_type": "markdown",
      "metadata": {
        "id": "TP87b7lcQgyz"
      },
      "source": [
        "Let's grab the description from the first bike in the JSON array:"
      ]
    },
    {
      "cell_type": "code",
      "execution_count": 48,
      "metadata": {
        "id": "VSGNM0HKQoiJ"
      },
      "outputs": [
        {
          "name": "stdout",
          "output_type": "stream",
          "text": [
            "['Small and powerful, the Jigger is the best ride for the smallest of tikes! This is the tiniest kids’ pedal bike on the', 'market available without a coaster brake, the Jigger is the vehicle of choice for the rare tenacious little rider raring', 'to go. We say rare because this smokin’ little bike is not ideal for a nervous first-time rider, but it’s a true giddy', 'up for a true speedster. The Jigger is a 12 inch lightweight kids bicycle and it will meet your little one’s need for', 'speed. It’s a single speed bike that makes learning to pump pedals simple and intuitive. It even has  a handle in the', 'bottom of the saddle so you can easily help your child during training!  The Jigger is among the most lightweight', 'children’s bikes on the planet. It is designed so that 2-3 year-olds fit comfortably in a molded ride position that', 'allows for efficient riding, balanced handling and agility. The Jigger’s frame design and gears work together so your', 'buddingbiker can stand up out of the seat, stop rapidly, rip over trails and pump tracks. The Jigger’s is amazing on', 'dirt or pavement. Your tike will speed down the bike path in no time. The Jigger will ship with a coaster brake. A', 'freewheel kit is provided at no cost.']\n"
          ]
        }
      ],
      "source": [
        "from textwrap import TextWrapper\n",
        "\n",
        "sample_description = bikes[0]['description']\n",
        "wrapped_sample_description = TextWrapper(width=120).wrap(sample_description)\n",
        "print(wrapped_sample_description)"
      ]
    },
    {
      "cell_type": "markdown",
      "metadata": {
        "id": "nZAkOQ6XQuuk"
      },
      "source": [
        "To generate the vector embeddings, we use the **encode** function:"
      ]
    },
    {
      "cell_type": "code",
      "execution_count": 49,
      "metadata": {
        "id": "uqDWpnSlQx3w"
      },
      "outputs": [],
      "source": [
        "embedding = embedder.encode(sample_description)"
      ]
    },
    {
      "cell_type": "markdown",
      "metadata": {
        "id": "KeJLsx9hQ5D4"
      },
      "source": [
        "Let's take a peek at the first 5 elements of the generated vector:"
      ]
    },
    {
      "cell_type": "code",
      "execution_count": 50,
      "metadata": {
        "id": "tQR2C9tPQ8kU"
      },
      "outputs": [
        {
          "name": "stdout",
          "output_type": "stream",
          "text": [
            "[0.20076504349708557, -0.13000667095184326, 0.3081606328487396, 0.20627866685390472, -0.3692346513271332]\n"
          ]
        }
      ],
      "source": [
        "print(embedding.tolist()[:5])"
      ]
    },
    {
      "cell_type": "markdown",
      "metadata": {
        "id": "qyGdQMLgRQwI"
      },
      "source": [
        "Let's look at the length of the vector embeddings generated by the model."
      ]
    },
    {
      "cell_type": "code",
      "execution_count": 51,
      "metadata": {
        "id": "ORU3ZcHXRSVs"
      },
      "outputs": [
        {
          "name": "stdout",
          "output_type": "stream",
          "text": [
            "768\n"
          ]
        }
      ],
      "source": [
        "print(len(embedding))"
      ]
    },
    {
      "cell_type": "markdown",
      "metadata": {
        "id": "NtbINyOJRaF1"
      },
      "source": [
        "**Create a redis-py client and test the server**"
      ]
    },
    {
      "cell_type": "code",
      "execution_count": 52,
      "metadata": {
        "id": "tHYeyTSXRyDB"
      },
      "outputs": [
        {
          "data": {
            "text/plain": [
              "True"
            ]
          },
          "execution_count": 52,
          "metadata": {},
          "output_type": "execute_result"
        }
      ],
      "source": [
        "client = redis.Redis(host='localhost', port=6379, decode_responses=True)\n",
        "res = client.ping()\n",
        "res"
      ]
    },
    {
      "cell_type": "markdown",
      "metadata": {
        "id": "01lRmkcwSZUt"
      },
      "source": [
        "**Storing the bikes as JSON documents in Redis**"
      ]
    },
    {
      "cell_type": "code",
      "execution_count": 53,
      "metadata": {
        "id": "tUvzdiqZSad9"
      },
      "outputs": [],
      "source": [
        "pipeline = client.pipeline()\n",
        "for i, bike in enumerate(bikes, start=1):\n",
        "    redis_key = f\"bikes:{i:03}\"\n",
        "    pipeline.json().set(redis_key, \"$\", bike)\n",
        "res = pipeline.execute()"
      ]
    },
    {
      "cell_type": "markdown",
      "metadata": {
        "id": "P17cNZNYTTlT"
      },
      "source": [
        "Let's retrieve a specific value from one of the JSON bikes in Redis using a JSONPath expression:"
      ]
    },
    {
      "cell_type": "code",
      "execution_count": 54,
      "metadata": {
        "id": "9ktbN1A-TUux"
      },
      "outputs": [
        {
          "data": {
            "text/plain": [
              "['Secto']"
            ]
          },
          "execution_count": 54,
          "metadata": {},
          "output_type": "execute_result"
        }
      ],
      "source": [
        "res = client.json().get(\"bikes:009\", \"$.model\")\n",
        "res"
      ]
    },
    {
      "cell_type": "markdown",
      "metadata": {
        "id": "Fcm7co8qUHTv"
      },
      "source": [
        "**Vectorize all of the Bikes descriptions**\n",
        "\n",
        "To vectorize all the descriptions in the database, we will first collect all the Redis keys for the bikes.\n",
        "\n",
        "We'll use the keys as a parameter to the JSON.MGET command, along with the JSONPath expression $.description to collect the descriptions in a list. We will then pass the list to the encode method to get a list of vectorized embeddings:"
      ]
    },
    {
      "cell_type": "code",
      "execution_count": 55,
      "metadata": {
        "id": "h7EyeCQ7UNZZ"
      },
      "outputs": [
        {
          "name": "stdout",
          "output_type": "stream",
          "text": [
            "768\n"
          ]
        }
      ],
      "source": [
        "keys = sorted(client.keys(\"bikes:*\"))\n",
        "\n",
        "#Create Embeddings\n",
        "descriptions = client.json().mget(keys, \"$.description\")\n",
        "descriptions = [item for sublist in descriptions for item in sublist]\n",
        "embedder = SentenceTransformer(\"msmarco-distilbert-base-v4\")\n",
        "embeddings = embedder.encode(descriptions).astype(np.float32).tolist()\n",
        "VECTOR_DIMENSION = len(embeddings[0])\n",
        "print(VECTOR_DIMENSION)"
      ]
    },
    {
      "cell_type": "markdown",
      "metadata": {
        "id": "kkdqzklCVEzd"
      },
      "source": [
        "Now we can add the vectorized descriptions to the JSON documents in Redis using the JSON.SET command to insert a new field in each of the documents under the JSONPath **$.description_embeddings**.\n",
        "\n",
        "Once again we'll do this using a pipeline:"
      ]
    },
    {
      "cell_type": "code",
      "execution_count": 56,
      "metadata": {
        "id": "hkolFLdkVL6G"
      },
      "outputs": [
        {
          "data": {
            "text/plain": [
              "[True, True, True, True, True, True, True, True, True, True, True]"
            ]
          },
          "execution_count": 56,
          "metadata": {},
          "output_type": "execute_result"
        }
      ],
      "source": [
        "pipeline = client.pipeline()\n",
        "for key, embedding in zip(keys, embeddings):\n",
        "    pipeline.json().set(key, \"$.description_embeddings\", embedding)\n",
        "pipeline.execute()"
      ]
    },
    {
      "cell_type": "markdown",
      "metadata": {
        "id": "wLpFCXW4VTrc"
      },
      "source": [
        "Let's inspect one of the vectorized bike documents using the JSON.GET command:"
      ]
    },
    {
      "cell_type": "code",
      "execution_count": 57,
      "metadata": {
        "id": "5wZ29RkrVV5b"
      },
      "outputs": [
        {
          "name": "stdout",
          "output_type": "stream",
          "text": [
            "{'model': 'Summit', 'brand': 'nHill', 'price': 1200, 'type': 'Mountain Bike', 'specs': {'material': 'alloy', 'weight': '11.3'}, 'description': 'This budget mountain bike from nHill performs well both on bike paths and on the trail. The fork with 100mm of travel absorbs rough terrain. Fat Kenda Booster tires give you grip in corners and on wet trails. The Shimano Tourney drivetrain offered enough gears for finding a comfortable pace to ride uphill, and the Tektro hydraulic disc brakes break smoothly. Whether you want an affordable bike that you can take to work, but also take trail riding on the weekends or you’re just after a stable, comfortable ride for the bike path, the Summit gives a good value for money.', 'description_embeddings': [-0.538114607334137, -0.49465855956077576, -0.025176964700222015, 0.6540342569351196, -0.062413860112428665, -0.689881443977356, -0.5430229902267456, -0.5903489589691162, 0.506131649017334, 0.20084935426712036, 0.8015637397766113, 1.068802833557129, 0.6989433169364929, -0.5940911769866943, 0.1718653440475464, -0.7504570484161377, 0.3871312141418457, -0.4596230983734131, -0.03349080681800842, -0.012830943800508976, 0.13192911446094513, -0.5524495840072632, 0.4882039725780487, -0.23588323593139648, 0.2463013082742691, 0.8020275235176086, 0.5976318717002869, 0.7614694833755493, -0.24015475809574127, 0.2861463725566864, 0.021865935996174812, 0.18882188200950625, -0.12812748551368713, 0.16957688331604004, 0.4675402343273163, 0.25929999351501465, 0.6704121828079224, -0.30113357305526733, 0.184920072555542, 0.08969084918498993, 0.26480668783187866, 0.22632092237472537, -0.5165480971336365, 0.26105859875679016, -0.024005282670259476, 0.3114412724971771, -0.28918132185935974, -0.3546317219734192, 0.282981812953949, -0.8389984369277954, -0.05901644378900528, -0.1874905377626419, -0.31679803133010864, 0.33606380224227905, 0.02394157461822033, 0.2122962921857834, 0.3039524257183075, -0.10102617740631104, -0.05963118001818657, 0.474010556936264, -0.590596079826355, -0.40316659212112427, 0.07812290638685226, 0.20056776702404025, -0.5902954339981079, -0.09767439216375352, 0.2963557839393616, -0.0852702334523201, 0.3110591173171997, 0.44699904322624207, 0.30549150705337524, 0.09557778388261796, 0.05982878059148789, 0.6428743600845337, 0.3231155276298523, 0.20170164108276367, -0.6351259350776672, 0.1446160525083542, 0.09051303565502168, -0.0391874797642231, 0.06271836161613464, 0.24273350834846497, 0.04995128884911537, -0.04752271994948387, -0.09224953502416612, 0.1315605342388153, 0.19861918687820437, -0.12237461656332016, -0.2799752354621887, 0.4379459619522095, 0.06735111027956009, -0.5184987187385559, 0.2469511926174164, 0.1408144235610962, 0.07050596922636032, 0.1027679517865181, 0.1023273468017578, 0.10538437962532043, 0.4192563891410827, 0.14350906014442444, 0.9640531539916992, 0.007706813979893923, 0.1473606824874878, -0.08167172968387604, -0.3862294256687164, -0.4986915588378906, 0.0446869432926178, -0.4456445872783661, -0.3988705575466156, 0.18717776238918304, -0.2889898419380188, -0.04563552886247635, 0.26715517044067383, 0.27984732389450073, 0.31355538964271545, 0.04133681580424309, -0.5566989183425903, -0.01816548965871334, -0.2121833860874176, 0.3132251501083374, 0.6287640929222107, 0.05154849216341973, -0.09076744318008424, 0.03256099671125412, 0.6196542382240295, 0.03548375517129898, -0.4422951936721802, 0.1934724748134613, 0.4343241751194, 0.058778297156095505, -0.27690747380256653, -0.8051251173019409, -0.03874979540705681, -0.10243670642375946, 0.5300284624099731, 0.08630751818418503, 0.1715146154165268, -0.32652464509010315, 0.39523646235466, -0.3025081753730774, 0.0031350222416222095, 0.5480356812477112, 0.3797743022441864, -0.2979586720466614, 0.4122603237628937, 0.4950901865959167, 0.23852013051509857, -0.7053163647651672, 0.14694324135780334, -0.2918227016925812, -0.045893438160419464, -0.24837613105773929, 0.4551844000816345, 0.1397332400083542, 0.0349828377366066, 0.26801761984825134, -0.19169433414936063, 0.2315034717321396, -0.04512467235326767, -0.5535299777984619, -0.5038515329360962, -0.4125514328479767, 0.03253551945090294, 0.1231607347726822, -0.15821753442287445, -0.5978423953056335, 0.1508515328168869, -0.2817956209182739, 0.03896098956465721, -0.14292532205581665, 0.10689549893140791, -0.045791152864694595, -0.4101516902446747, 0.09451613575220108, 0.5251076817512512, -0.5368606448173523, 0.1307017207145691, -0.028141621500253677, -0.7927542924880981, 0.15735110640525818, -0.06539743393659592, 0.39150598645210266, 0.8629955053329468, -0.0802188590168953, 0.19368809461593628, -0.05219215527176857, 0.38621586561203, -0.15033777058124542, -0.1785825490951538, 0.2225310057401657, 0.30431896448135376, -0.12058411538600922, 0.5396396517753601, -0.4050101935863495, 0.09368740767240524, 0.09797868132591248, 0.09601245820522308, -0.2393631786108017, 0.0073011284694075584, 0.19247381389141083, 0.6849700808525085, -0.2423707544803619, 0.1901697963476181, -0.5123587250709534, -0.6767672300338745, 0.4203139245510102, -0.29738476872444153, -0.07170681655406952, 0.17699910700321198, -0.5528140664100647, 0.04993401467800141, -0.20961546897888184, -0.2923227846622467, 0.26552870869636536, -0.3932386338710785, 0.16528558731079102, 0.4104448854923248, 0.4218273460865021, 0.4658206105232239, 0.5773606300354004, 0.45356428623199463, 0.05365718901157379, 0.012064612470567226, 0.10688476264476776, -0.34171009063720703, 0.2740454077720642, -0.40667974948883057, 0.13993874192237854, -0.4670261740684509, 0.641694188117981, -0.11728563159704208, -0.1536513715982437, 0.1664472371339798, 0.013416247442364693, 0.6865313053131104, 0.16319595277309418, -0.1313876360654831, -0.33914715051651, 0.7143841981887817, 0.4153391122817993, 0.050841618329286575, 0.021625446155667305, -0.3998141288757324, 0.3656946122646332, -0.6861079335212708, 0.22631868720054624, 0.2434176504611969, -0.39389318227767944, -0.2939856946468353, -0.6988925337791443, 0.0023749503307044506, 0.2557758688926697, 0.07733334600925446, 0.08562692254781723, -0.4653778672218323, -0.47224855422973633, 0.204657644033432, 0.1721842885017395, -0.05128367617726326, -0.25902992486953735, -0.24281634390354156, 0.2121058851480484, -0.40470507740974426, -0.016684740781784058, -0.36820799112319946, -0.34653666615486145, 0.01965230703353882, 0.5925346612930298, -0.6207066178321838, 0.1772157996892929, -0.07996480166912079, 0.11140983551740646, 0.9344686269760132, -0.12326941639184952, -0.7111544609069824, -0.05846113711595535, -0.012008657678961754, 0.44158244132995605, -0.3492433428764343, 0.2759532332420349, 0.24787332117557528, 0.45545557141304016, 0.7593414783477783, 0.4516882598400116, 0.2007751762866974, 0.6386055946350098, 0.1254117637872696, -0.15471850335597992, -0.35669803619384766, 0.09352518618106842, 0.38097596168518066, -0.19434930384159088, 0.19606617093086243, -0.19388175010681152, -0.12396399676799774, 0.10173965990543364, 0.0966048389673233, -0.10971791297197342, 0.2755376696586609, -0.019903073087334633, 0.19881035387516025, 0.008421716280281544, 0.04321685805916786, 0.3202625811100006, 0.38394489884376526, -0.05447137728333473, -0.5989933013916016, -0.2514653205871582, -1.3341959714889526, 0.5993687510490417, 0.31967267394065857, -0.17753656208515167, 0.33832451701164246, -0.541181743144989, -0.11117620021104813, -0.33001992106437683, -0.5902714133262634, 0.2376537173986435, 0.25595828890800476, -0.5160537362098694, 0.18027015030384064, -0.8441833853721619, -0.3229607343673706, 0.3380371034145355, 0.2697962522506714, 0.16679580509662628, 0.3271738290786743, 0.01640629582107067, 0.6034488677978516, -0.13774549961090088, 0.019702905789017677, 0.24642114341259003, -0.12335346639156342, 0.4462413489818573, 0.23510345816612244, 0.3410492539405823, -0.8825140595436096, 0.14720670878887177, -0.11246318370103836, 0.26281458139419556, 0.4259587824344635, 0.31630417704582214, -0.006870838347822428, -0.5521698594093323, 0.8179324865341187, 0.598763644695282, 0.6024854183197021, -0.06854191422462463, -0.7556208968162537, -0.1374961882829666, 0.8337648510932922, 0.1052059605717659, 0.3683313727378845, 0.15196041762828827, 0.23144707083702087, 0.13188539445400238, 0.5445380806922913, 0.029216373339295387, 0.5117156505584717, -0.8463568091392517, -0.11278730630874634, -0.004147173836827278, -0.12626104056835177, -0.580345869064331, 0.10947934538125992, 0.1760302484035492, 0.3597012162208557, 0.1295921802520752, -0.012911539524793623, 0.0354832261800766, 0.006263549905270338, -0.38386982679367065, -0.07806842029094696, -0.08932604640722275, 0.8280884623527527, -0.04096837714314461, -0.07454624772071838, -0.13294550776481628, -0.6491244435310364, -0.08123959600925446, 0.18086043000221252, -0.3569027781486511, 0.15599387884140015, -0.2716359794139862, 0.18710173666477203, -0.18621180951595304, -0.6854656338691711, 0.37220630049705505, -0.1094445064663887, -0.6613888740539551, 0.7218130230903625, 0.09575074911117554, 0.2342323362827301, -0.34011510014533997, -0.12799440324306488, 0.30371370911598206, 0.5078850388526917, 0.3779429793357849, 0.2068597823381424, -0.1873520165681839, -0.6132457852363586, -0.13796848058700562, 0.30837470293045044, -0.03636545687913895, 0.1315689980983734, -0.6722032427787781, -0.16768918931484222, -0.4975343346595764, -0.22944769263267517, -0.057957686483860016, 0.22860483825206757, 0.03821214661002159, -1.024591088294983, -0.19394676387310028, 0.02630060538649559, 0.44197723269462585, 0.36564308404922485, -0.14544394612312317, -0.022020772099494938, -0.18210574984550476, -0.3334181010723114, 0.3778718709945678, -0.4434645175933838, -0.1272445172071457, -0.6089416742324829, -0.3537694215774536, 0.16983681917190552, 0.1871490180492401, -0.15760721266269684, 0.2810899615287781, 0.10531171411275864, -0.3390967547893524, 0.48867127299308777, 0.3744147717952728, -0.3271530568599701, -0.24311769008636477, -0.37356555461883545, -0.3703218698501587, 0.2989785671234131, -0.2859719395637512, 0.4739580154418946, 0.08220651000738144, -0.6677790284156799, -0.4514796435832978, -0.27840667963027954, 0.3150562644004822, -0.17782391607761383, 0.1044333353638649, -0.14896605908870697, 0.4152441918849945, 0.2873633801937103, 0.288540780544281, 1.1955465078353882, -0.3249996602535248, -0.8816065192222595, -0.31057342886924744, -0.2972460985183716, -0.12306700646877287, 0.5406583547592163, -0.06093362346291542, -0.3939734995365143, -0.04238640516996384, 0.20208404958248136, 0.37392687797546387, -0.3758167922496796, -0.10956937074661256, 0.41944196820259094, -0.37599554657936096, 0.6869866847991943, 0.02974422089755535, 0.5274130702018738, 0.4458704590797424, 0.13637074828147888, 0.6850507259368896, 0.12861058115959167, -0.36497923731803894, -0.11097323894500732, -0.19737355411052704, 0.355207622051239, -0.1833602488040924, -0.7865819334983826, -0.2565723657608032, -0.01972313411533833, -0.09610598534345628, 0.20356625318527224, -0.48706167936325073, -0.40174365043640137, -0.7093121409416199, -0.4545157551765442, 0.17227600514888763, 0.2403816133737564, 0.27484363317489624, 0.02749577723443508, -1.16160786151886, -0.15133027732372284, 0.06942310929298401, -0.5277107357978821, 0.03605508804321289, 1.1370700597763062, 0.27360671758651733, 0.033192358911037445, 0.3721002340316773, 0.4189928472042084, -0.1498674899339676, 0.4538348615169525, -0.6862943172454834, -0.22215501964092255, 0.08638693392276764, -0.2915860116481781, -0.002146249869838357, 0.09016711264848708, -0.03455737233161926, -0.08745480328798294, -0.09948576986789703, 0.13133004307746887, 0.09507324546575546, -0.4084675908088684, -0.6975409388542175, 0.2079537808895111, -0.5201094150543213, 0.4588863253593445, 0.23661649227142337, 0.3797733783721924, -0.2363613396883011, 0.006426111329346895, -0.5672523975372314, 0.2704378366470337, 0.07577160000801086, -0.1601068377494812, -0.3660784959793091, -0.2554885447025299, -0.21497006714344025, -0.11009837687015532, -0.3039540648460388, -0.1343631148338318, 0.28624585270881653, 0.026895828545093536, -0.4440051317214966, -0.2762134075164795, -0.05281494930386543, -0.5582774877548218, 0.15372002124786377, 0.2574973404407501, 0.6305351853370667, 0.15988534688949585, 0.2000813186168671, -0.17161259055137634, -0.4939900040626526, 0.021226316690444943, 0.4490460753440857, 0.15301743149757385, 0.029067452996969223, -0.6886759996414185, 0.30084681510925293, -0.4554113447666168, 0.4716588854789734, -0.10058218985795976, 0.01676262728869915, -0.0027129040099680424, -0.03721244633197784, -0.4456648826599121, -0.10916677862405776, 0.20557990670204165, -0.3436679542064667, -0.3214423656463623, -0.47534143924713135, 0.04333750531077385, 0.2244480550289154, 0.049495093524456024, -0.020052680745720863, 0.2942446172237396, -0.10853180289268494, -0.031206099316477776, -0.06596319377422333, -0.42512285709381104, -1.0410512685775757, 0.010507878847420216, -0.46794235706329346, -0.6458207964897156, -0.28816646337509155, -0.11038240790367126, -0.18570169806480408, -0.27754640579223633, -0.4430335462093353, 0.3069083094596863, 0.04230877012014389, 0.1726246178150177, -0.18220610916614532, 0.4507131576538086, 0.5076611638069153, -0.45577678084373474, 0.28492113947868347, -0.4570750296115875, 0.5166952013969421, -0.04786564782261848, 0.05665837600827217, -0.03380589932203293, 0.42758050560951233, -0.12857985496520996, 0.4344594180583954, -0.03549088165163994, 0.12476550042629242, -0.47778624296188354, 0.30864810943603516, 0.1865137964487076, -0.8947020769119263, -0.5961045622825623, 0.6119580268859863, -0.16717900335788727, -0.12753194570541382, 0.25433239340782166, -0.005284871906042099, 0.05696974694728851, -0.3891609311103821, -0.007765613030642271, -0.09870745241641998, 0.2166329175233841, -0.16209200024604797, 0.14309731125831604, 0.4908454120159149, -0.027539817616343495, 0.835615873336792, 0.3810829520225525, -0.29275986552238464, 0.4942210018634796, 0.27381399273872375, 0.03468972444534302, 0.1960986703634262, 0.5165999531745911, 0.1976998001337051, -0.17444801330566406, -0.14781011641025543, 0.48358508944511414, -0.12934814393520355, -0.5197355151176453, -0.4809192419052124, 0.46971991658210754, 0.524711012840271, -0.08391198515892029, -0.004679405130445957, -0.026034586131572723, 0.3770063221454621, 0.4127449989318848, 0.06410499662160873, -0.03599673509597778, 0.4146585762500763, -0.3009432852268219, -0.3978961706161499, -0.5302168130874634, -0.5196265578269958, -0.12224066257476808, -0.22763146460056305, 0.3460153341293335, -0.26954975724220276, 0.13273076713085177, -0.3952518403530121, 0.06624099612236023, 0.09462219476699828, 0.08858895301818848, 0.2575380802154541, 0.20974788069725037, -0.23005108535289764, -0.5898203253746033, 0.09514152258634569, -0.5494315028190613, 0.1623433530330658, -0.6152017116546631, -0.30295026302337646, 0.4622902572154999, 0.3030538856983185, -0.3961051106452942, -0.6167330145835876, 0.07520075142383575, -0.05536767095327377, 0.1284199208021164, 0.0048096622340381145, 0.05882538482546806, 0.97883403301239, -0.43512076139450073, 0.6372408270835876, 0.09851889312267303, -0.34352248907089233, 0.0921141505241394, -0.3736135959625244, 0.014728635549545288, -0.20558056235313416, -0.10432494431734084, 0.3970880210399628, -0.03541283309459686, 0.296879380941391, 0.02348783053457737, 0.2218513786792755, 0.060058314353227615, -0.1477358341217041, -0.07563792169094086, -0.08797584474086761, -0.028421984985470772, -0.013592509552836418, 0.2684890329837799, 0.4218108654022217, -0.45216742157936096, 0.35130903124809265, -0.08462578803300858, 0.20832976698875427, -0.17099089920520782, 0.15960286557674408, -0.7183046340942383, 0.2042953819036484, -0.36345821619033813, 0.06277790665626526, 0.19862380623817444, 0.49355530738830566, 0.34019923210144043, -0.3086959719657898, 0.06021028012037277, -0.10101195424795152, -0.33588069677352905, -0.593333899974823, 0.2720043361186981, 0.4882526993751526, 0.44463372230529785, 0.03825729340314865, 0.33544817566871643, -0.5688251256942749, 0.3816808164119721, 0.050547387450933456, -0.5068245530128479, 0.030179664492607117, -0.295529842376709, 0.4084124267101288, 0.32753801345825195, 0.30250126123428345, 0.4482875466346741, 0.2732163369655609, -0.3072569668292999, -0.346947580575943, -0.8999792337417603, 0.14887823164463043, 0.0034113225992769003, -0.35765695571899414, -0.3305371403694153, -0.5140467286109924, 0.030857829377055168, 0.04695698618888855, 0.2985439896583557, -0.030040165409445763, -0.10855790972709656, 0.15749841928482056, -0.2053159773349762, 0.4796641170978546, -0.1622767299413681, 0.4480371177196502, -0.5054649710655212, -0.032039057463407516, 0.18630678951740265, 0.22798728942871097, -0.43887993693351746, 0.619399905204773, 0.03497108817100525, -0.00015983676712494344, -0.14509810507297516, -0.4929399788379669, -0.01985257677733898, 0.1445048451423645, -0.11215085536241531, -0.04862794652581215, -0.12951581180095673, -1.0196232795715332]}\n"
          ]
        }
      ],
      "source": [
        "res = client.json().get(\"bikes:010\")\n",
        "print(res)"
      ]
    },
    {
      "cell_type": "markdown",
      "metadata": {
        "id": "jYSqpuLiVt6V"
      },
      "source": [
        "**Making the bikes collection searchable**\n",
        "\n",
        "Redis Stack provides a powerful search engine that introduces commands to create and maintain search indexes for both collections of HASHES and JSON documents.\n",
        "\n",
        "To create a search index for the bikes collection, we'll use the FT.CREATE command:\n",
        "\n"
      ]
    },
    {
      "cell_type": "code",
      "execution_count": null,
      "metadata": {
        "id": "m3fOqy4aVtO3"
      },
      "outputs": [],
      "source": [
        "schema = (\n",
        "    TextField(\"$.model\", no_stem=True, as_name=\"model\"),\n",
        "    TextField(\"$.brand\", no_stem=True, as_name=\"brand\"),\n",
        "    NumericField(\"$.price\", as_name=\"price\"),\n",
        "    TagField(\"$.type\", as_name=\"type\"),\n",
        "    TextField(\"$.description\", as_name=\"description\"),\n",
        "    VectorField(\n",
        "        \"$.description_embeddings\",\n",
        "        \"FLAT\",\n",
        "        {\n",
        "            \"TYPE\": \"FLOAT32\",\n",
        "            \"DIM\": VECTOR_DIMENSION,\n",
        "            \"DISTANCE_METRIC\": \"COSINE\",\n",
        "        },\n",
        "        as_name=\"vector\",\n",
        "    ),\n",
        ")\n",
        "definition = IndexDefinition(prefix=[\"bikes:\"], index_type=IndexType.JSON)\n",
        "res = client.ft(\"idx:bikes_vss\").create_index(\n",
        "    fields=schema, definition=definition\n",
        ")"
      ]
    },
    {
      "cell_type": "markdown",
      "metadata": {
        "id": "9VVdDxrFa3k6"
      },
      "source": [
        "**Check the state of the index**\n",
        "\n",
        "After the FT.CREATE command creates the index, the indexing process is automatically started in the background. In a short amount of time, our 11 JSON documents should be indexed and ready to be searched. To validate that, we use the FT.INFO command to check some information and statistics of the index. Of particular interest are the number of documents successfully indexed and the number of failures:"
      ]
    },
    {
      "cell_type": "code",
      "execution_count": 59,
      "metadata": {
        "id": "Ds4zjkLGYkS-"
      },
      "outputs": [
        {
          "name": "stdout",
          "output_type": "stream",
          "text": [
            "{'index_name': 'idx:bikes_vss', 'index_options': [], 'index_definition': ['key_type', 'JSON', 'prefixes', ['bikes:'], 'default_score', '1'], 'attributes': [['identifier', '$.model', 'attribute', 'model', 'type', 'TEXT', 'WEIGHT', '1', 'NOSTEM'], ['identifier', '$.brand', 'attribute', 'brand', 'type', 'TEXT', 'WEIGHT', '1', 'NOSTEM'], ['identifier', '$.price', 'attribute', 'price', 'type', 'NUMERIC'], ['identifier', '$.type', 'attribute', 'type', 'type', 'TAG', 'SEPARATOR', ','], ['identifier', '$.description', 'attribute', 'description', 'type', 'TEXT', 'WEIGHT', '1'], ['identifier', '$.description_embeddings', 'attribute', 'vector', 'type', 'VECTOR']], 'num_docs': '11', 'max_doc_id': '55', 'num_terms': '778', 'num_records': '5323', 'inverted_sz_mb': '0.030668258666992188', 'vector_index_sz_mb': '2.998809814453125', 'total_inverted_index_blocks': '787', 'offset_vectors_sz_mb': '0.005707740783691406', 'doc_table_size_mb': '7.867813110351563e-4', 'sortable_values_size_mb': '0', 'key_table_size_mb': '3.871917724609375e-4', 'geoshapes_sz_mb': '0', 'records_per_doc_avg': '483.9090881347656', 'bytes_per_record_avg': '6.041329860687256', 'offsets_per_term_avg': '1.1121548414230347', 'offset_bits_per_record_avg': '8.087838172912598', 'hash_indexing_failures': '0', 'total_indexing_time': '13.194', 'indexing': '0', 'percent_indexed': '1', 'number_of_uses': 324, 'cleaning': 0, 'gc_stats': ['bytes_collected', '0', 'total_ms_run', '0', 'total_cycles', '0', 'average_cycle_time_ms', 'nan', 'last_run_time_ms', '0', 'gc_numeric_trees_missed', '0', 'gc_blocks_denied', '0'], 'cursor_stats': ['global_idle', 0, 'global_total', 0, 'index_capacity', 128, 'index_total', 0], 'dialect_stats': ['dialect_1', 1, 'dialect_2', 1, 'dialect_3', 0, 'dialect_4', 0]}\n",
            "11\n",
            "0\n"
          ]
        }
      ],
      "source": [
        "info = client.ft(\"idx:bikes_vss\").info()\n",
        "num_docs = info[\"num_docs\"]\n",
        "indexing_failures = info[\"hash_indexing_failures\"]\n",
        "print(info)\n",
        "print(num_docs)\n",
        "print(indexing_failures)"
      ]
    },
    {
      "cell_type": "markdown",
      "metadata": {
        "id": "O2QO5j2tbDVJ"
      },
      "source": [
        "# **Structured data searches with Redis**\n",
        "The index **idx:bikes_vss** indexes the structured fields of our JSON documents model, brand, price, and type. It also indexes the unstructured free-form text description and the generated embeddings in description_embeddings. Before we dive deeper into Vector Similarity Search (VSS), we need to understand the basics of querying a Redis index. The Redis command of interest is FT.SEARCH. Like a SQL select statement, an FT.SEARCH statement can be as simple or as complex as needed.\n",
        "\n",
        "Let's try a few simple queries that give enough context to complete our VSS examples. For example, to retrieve all bikes where the brand is Peaknetic, we can use the following command:"
      ]
    },
    {
      "cell_type": "code",
      "execution_count": null,
      "metadata": {
        "id": "ZoekoNuGbM4K"
      },
      "outputs": [
        {
          "data": {
            "text/plain": [
              "[Document {'id': 'bikes:008', 'payload': None, 'json': '{\"model\":\"Soothe Electric bike\",\"brand\":\"Peaknetic\",\"price\":1950,\"type\":\"eBikes\",\"specs\":{\"material\":\"alloy\",\"weight\":\"14.7\"},\"description\":\"The Soothe is an everyday electric bike, from the makers of Exercycle  bikes, that conveys style while you get around the city. The Soothe lives up to its name by keeping your posture upright and relaxed for the ride ahead, keeping those aches and pains from riding at bay. It includes a low-step frame , our memory foam seat, bump-resistant shocks and conveniently placed thumb throttle. \",\"description_embeddings\":[0.15016977488994598,-0.8277863264083862,-0.09484998136758804,0.3845418691635132,-0.1938203871250153,-0.12874773144721985,-0.35355475544929504,-0.5088202953338623,0.4719179272651672,-0.6207221150398254,0.12762244045734406,0.4462100863456726,-0.4208441376686096,-0.5660984516143799,-0.24973604083061215,-0.45723506808280945,-0.1304808109998703,0.05307814106345177,0.2264653593301773,0.35947129130363464,-0.7567145228385925,-0.13596534729003906,0.16627207398414612,-0.18022048473358152,-0.15852020680904388,0.41128143668174744,0.28725942969322205,0.3910636901855469,-0.5323897004127502,0.8257635235786438,-0.25213342905044556,1.06197190284729,-0.874935507774353,-0.3998964726924896,-0.23255811631679535,0.4298693835735321,0.501694917678833,-0.37573760747909546,-0.14668422937393188,0.32009729743003845,-0.5310715436935425,0.07633661478757858,0.06713086366653442,0.24267898499965668,-0.27148252725601196,0.055204130709171295,-0.10252484679222108,-0.6422602534294128,0.5559601783752441,-0.1808936297893524,-0.2244100570678711,0.136478453874588,0.2768990099430084,0.6307079195976257,-0.09729110449552536,-0.16827142238616943,0.1735195368528366,0.1324002891778946,0.12422674894332886,-0.2782176434993744,-0.2761801481246948,0.4134595990180969,0.4386635720729828,-0.22507017850875857,-0.3990940749645233,0.3060883581638336,-0.3767662644386291,-0.06470984220504761,0.7390277981758118,0.34392863512039185,0.11248093843460084,0.056277740746736526,-0.33913367986679077,0.49231597781181335,0.7446975708007812,0.4652976989746094,0.4831765592098236,-0.4501146972179413,0.5244015455245972,0.6981872916221619,-0.4655616283416748,0.777538001537323,0.3168478310108185,-0.10299710184335709,-0.16174781322479248,0.5144650936126709,-0.5197993516921997,0.17787803709506989,-0.4643389284610748,-0.15700161457061768,0.30613723397254944,-0.3046606779098511,0.28801068663597107,-0.054486989974975586,-0.022366110235452652,0.280788391828537,0.25032615661621094,0.1406877487897873,0.08717761188745499,-0.07235512882471085,0.4097665548324585,-0.0011982463765889406,-0.24431344866752625,-0.08069966733455658,-0.06345999985933304,-0.12317371368408205,-0.02558043971657753,-1.412769079208374,-0.33610936999320984,-0.04000961780548096,0.42162373661994934,-0.4383140802383423,-0.08586268126964569,0.6250311732292175,0.04635576903820038,-0.08563915640115738,-1.3312715291976929,0.30420413613319397,-0.6435958743095398,0.17799104750156405,0.24806278944015503,-0.6237766146659851,0.015543805435299872,0.19650352001190183,0.16039107739925385,0.2045190632343292,-0.7749964594841003,0.35495656728744507,0.1151643842458725,0.1632658690214157,0.1350037157535553,-0.19809730350971225,-0.1694936901330948,-0.976252257823944,-0.023424532264471058,0.3387306034564972,0.6317576766014099,-0.0938178300857544,0.2308702915906906,0.002949653659015894,0.6492403745651245,0.5145678520202637,-0.28043824434280396,-0.9835821986198424,-0.03627249598503113,-0.4960382580757141,-0.2252032905817032,-0.9644541144371032,-0.3183394968509674,-0.7114681005477905,0.2284643054008484,0.07005483657121658,0.26815930008888245,-0.08687877655029297,0.19182677567005155,-0.5842844247817993,-0.655315101146698,0.27329832315444946,-0.012445452623069286,-0.47461485862731934,-0.4609579443931579,-0.11579275131225586,0.2935493290424347,0.36024734377861023,0.4269352853298187,-0.46173644065856934,0.2530977725982666,-0.1070508062839508,-0.012046893127262592,-0.8438424468040466,0.14147499203681946,0.20536768436431885,-0.46759581565856934,-0.43241700530052185,0.454675167798996,0.38965657353401184,0.23506467044353485,-0.25886011123657227,-0.34638792276382446,-0.24107109010219577,-0.7448368072509766,0.6822692155838013,0.479947030544281,-0.9165034294128418,0.04170173779129982,-0.7158034443855286,0.04245569184422493,0.3227364718914032,0.01639934442937374,0.0201594028621912,-0.6163663268089294,-0.03082643449306488,0.9754766821861268,0.24456475675106049,0.5430665612220764,0.03668279945850372,-1.067604422569275,0.100367434322834,0.10973044484853745,0.0654367208480835,0.5400024056434631,-0.30650532245635986,-0.6949562430381775,-0.722400426864624,-0.2686052918434143,0.05658065155148506,-0.6591059565544128,-0.43064504861831665,-0.5380460023880005,0.027630159631371495,-0.3707582652568817,-0.19091710448265076,0.17443248629570007,0.174365296959877,-0.23189446330070496,-0.4646818935871124,0.21640989184379575,-0.20819135010242465,0.05354221537709236,-0.2022174447774887,-0.03935609385371208,0.3902451992034912,-0.13335120677947998,0.033873796463012695,0.17955882847309113,0.0199801716953516,0.0293856468051672,-0.043680183589458466,0.00015191805141512305,0.20191270112991333,-0.27461251616477966,0.4012938439846039,-0.4480116367340088,-0.045104458928108215,-0.21182720363140103,0.3255634903907776,0.5982024073600769,-0.7037436366081238,0.8915557861328125,-0.1788334846496582,0.028698325157165527,0.2100886106491089,0.10065468400716782,0.44135892391204834,0.04818563163280487,0.5098479390144348,0.9648678302764891,0.02124517224729061,-1.2983981370925903,-0.003919973038136959,-0.3460809886455536,0.5284061431884766,0.4465168416500091,0.7846128344535828,0.5326658487319946,-0.2043940871953964,-0.14872916042804718,0.08028370141983032,-0.0018238567281514408,0.4724765419960022,0.23081718385219577,-0.8905686140060425,-0.5524343252182007,0.13605596125125885,-0.14394819736480713,-0.17072391510009766,-0.2453151494264603,-0.18318237364292145,-0.07075730711221695,-0.04930455982685089,0.517233669757843,0.24956335127353668,0.7577683329582214,0.20380327105522156,0.06810783594846725,0.0897577628493309,-0.02518114633858204,-0.5166105628013611,0.031459979712963104,-0.11645126342773438,0.567699134349823,0.49841952323913574,1.068499207496643,0.46172356605529785,0.48137620091438293,-0.28253623843193054,1.2277473211288452,0.3478585481643677,-0.6187880635261536,0.6677457094192505,0.39424586296081543,-0.749374270439148,0.16699306666851044,0.4272545278072357,-0.015466969460248947,-0.09344171732664108,0.832075297832489,-0.1284879446029663,0.029992975294589996,-0.4077307879924774,-0.2767968773841858,-0.590361475944519,-0.05757753178477287,0.163114532828331,0.20697282254695892,-0.03806837275624275,-0.1706569492816925,-0.7118386030197144,0.46527352929115295,0.0020907919388264418,-0.2944754958152771,-0.3647122383117676,0.10169124603271484,-0.4285110831260681,-0.2687515318393707,-0.535015881061554,-0.8405453562736511,0.30015772581100464,0.19851195812225345,-0.049666937440633774,0.5044741630554199,-0.5222952961921692,-0.03373107314109802,-0.19566409289836884,0.34852996468544006,0.5573822259902954,-0.00355314277112484,0.3275689482688904,0.4657084047794342,-0.08355467766523361,0.07941251248121262,-0.038019198924303055,-0.02167969197034836,-0.15191766619682312,0.39339718222618103,-0.31815025210380554,0.13414128124713898,-0.3354560434818268,-0.3110010325908661,0.11924362182617188,0.12993653118610382,-0.03553321957588196,0.2922587990760803,0.48013490438461304,-0.11988542973995207,0.5351002812385559,0.8728352785110474,-0.49656182527542114,-0.8990830779075623,0.18691761791706085,0.4454899728298187,-0.5254561305046082,-0.6838518381118774,0.21486824750900269,-0.35612690448760986,-0.006284753326326609,0.31779807806015015,1.078479528427124,0.33882492780685425,-0.6892132759094238,-0.28738704323768616,0.08094768971204758,0.932786226272583,-0.220656618475914,-0.014331690967082976,-0.6595710515975952,-0.005364173091948032,0.16631808876991272,0.4883753359317779,0.2779945135116577,-0.959900975227356,-0.21926164627075195,0.40594232082366943,-0.1651197224855423,-0.08446761965751648,-0.6197654604911804,-0.3871663808822632,0.31979453563690186,0.4046992361545563,0.03509443253278732,-0.22071275115013125,-0.1309797316789627,-0.10412047803401948,-0.909036099910736,-0.14466559886932373,-0.36397916078567505,0.122153177857399,-0.13929235935211182,-0.4245206415653229,-0.27636241912841797,-0.0888228788971901,-0.2207368016242981,-0.5259369611740112,0.27965325117111206,0.3473927974700928,-0.5302718877792358,0.02408597059547901,-0.3772904872894287,0.47593697905540466,0.9828265905380248,-0.44777271151542664,-0.1679498851299286,-0.043925825506448746,-0.11849437654018402,-0.09345906227827072,0.0973447412252426,-0.5592896342277527,-1.3821690082550049,0.32760775089263916,0.5093613862991333,0.41725629568099976,0.90919429063797,0.8701887726783752,-0.6893006563186646,-0.20912782847881317,-0.41902145743370056,1.0665431022644043,0.4500840008258819,0.11971203237771988,-0.5478752255439758,0.025602970272302628,-0.02872350439429283,-0.00028095502057112753,-0.12880022823810575,-0.24625244736671448,0.363456130027771,0.043116409331560135,-1.0048441886901855,0.5976861715316772,-0.13593612611293793,0.45198139548301697,0.6767234802246094,0.08236352354288101,0.6324709057807922,-0.6096493601799011,0.3846776485443115,-0.23124274611473083,0.07085666060447693,0.7534686326980591,-0.5883845090866089,0.434626430273056,0.09552565962076189,-0.6498864889144897,-0.01321884524077177,0.06096910312771797,-0.435639888048172,0.12477501481771468,0.6162909269332886,0.05842073634266853,0.5693947672843933,-0.16970546543598175,-0.22333915531635284,1.2550089359283447,0.2576841711997986,-0.6453753113746643,-0.4312926232814789,-0.43548384308815,0.35826635360717773,0.8572148084640503,-0.23740041255950928,-1.1130892038345337,-0.4562774896621704,0.33291831612586975,0.2699428200721741,-1.0029059648513794,-0.2985297739505768,0.2113066464662552,-0.42470505833625793,0.2892064154148102,0.7064499258995056,0.1855567097663879,-0.12664158642292023,-0.2438439577817917,0.3408781886100769,0.09934495389461516,-0.9206066131591796,0.33647388219833374,-1.14187490940094,-0.278793603181839,0.02177189290523529,-0.07041028887033463,0.017242690548300743,0.10523787140846252,0.3816355168819427,0.4349612295627594,0.07725914567708969,-0.21592925488948825,-0.5641034841537476,-0.12786653637886047,-0.013375525362789633,0.24632501602172852,0.12363875657320024,0.05937995761632919,-0.5734379887580872,0.6470707654953003,0.145547553896904,0.24918095767498016,-0.5109505653381348,0.7975611686706543,0.8589892387390137,-0.6141394376754761,0.456565797328949,-0.15290428698062897,0.02109205536544323,0.41753700375556946,-0.5090861320495605,0.003633492859080434,0.08954719454050064,-0.44726014137268066,-0.1881137639284134,-0.30415332317352295,0.3680362105369568,-0.5604554414749146,0.048069749027490616,-0.029382716864347454,0.40652918815612793,-1.1260050535202026,-0.09739597886800766,0.8655319213867188,0.14112386107444763,0.4999770522117615,0.015914112329483032,0.5987734794616699,-0.05809430778026581,0.3402106761932373,-0.5895330309867859,-0.1959657371044159,-0.2758655846118927,-0.5747130513191223,-0.6654583811759949,-0.11414625495672226,-0.2754385769367218,0.8365228772163391,-0.373276948928833,-0.7182523608207703,0.1797371655702591,0.5094082951545715,0.1168738305568695,-0.05210302025079727,0.3171951472759247,0.05556588992476463,-0.34375840425491333,-0.3362244963645935,0.0657842755317688,-0.3385224938392639,-0.11898896843194962,0.5336671471595764,-0.08286482095718384,0.17797419428825378,0.051619041711091995,-0.205843523144722,-0.6566737294197083,0.34713882207870483,0.09329336881637572,-0.4065485894680023,0.08715449273586273,-0.5701504945755005,-0.6493510603904724,-0.031770020723342896,-0.2969934046268463,-0.6334587931632996,-0.027343954890966415,0.1701115369796753,-0.38264429569244385,-0.350803405046463,-0.079326331615448,0.179841548204422,0.23134776949882507,0.6888735890388489,0.13456661999225616,-0.10946709662675858,0.08227263391017914,0.5319076180458069,-0.3917074203491211,0.0864461287856102,-0.2913523316383362,-0.3268451988697052,0.5189424157142639,-0.4591538608074188,1.0219606161117554,-0.08323515951633453,-0.3341955244541168,-0.32655227184295654,-0.623824954032898,-0.04246878623962402,0.6732613444328308,0.23176006972789764,0.14730539917945862,0.5607573390007019,0.4337579607963562,-0.22574083507061005,0.425213485956192,-0.7424570918083191,0.46235233545303345,0.30959954857826233,-0.11117703467607498,0.22129270434379575,0.16919761896133423,0.3809953033924103,-0.15028426051139832,0.5568920969963074,0.2322913557291031,-0.07085017114877701,0.7010906934738159,-0.47461533546447754,-0.4975430965423584,-0.4163544178009033,-0.026505138725042343,-0.5167908668518066,-0.20813170075416565,-0.32483580708503723,0.34658390283584595,-0.27643904089927673,0.6270739436149597,-0.054396241903305054,0.14934827387332916,0.04906045645475387,-0.0819220319390297,0.5358487367630005,0.5308634042739868,-0.10923288762569427,0.7679305076599121,-0.16416892409324646,0.25475287437438965,0.5823149681091309,0.08170916140079498,-0.0031713733915239573,0.7012121081352234,-0.19925673305988312,-0.18331699073314667,-0.2729317247867584,-0.26456671953201294,0.7868462800979614,-0.5581592917442322,-0.7971377372741699,-0.28771892189979553,0.7199411988258362,0.8092200756072998,-0.1395253986120224,-0.14127439260482788,-0.2298098057508469,0.08158880472183228,0.6017966866493225,0.1365283727645874,0.4927785098552704,0.5739995837211609,-1.3458406925201416,0.07663256675004959,-0.556145429611206,-0.2299183160066605,0.20418302714824677,-0.12066608667373656,0.22530148923397064,-0.06070591136813164,0.6213865280151367,0.36419567465782166,0.15562550723552704,-0.19679979979991913,1.0696173906326294,0.49943843483924866,0.4274748265743256,0.5153670310974121,-0.6804032325744629,-0.4475441575050354,-0.1244724690914154,0.3157644271850586,-0.01929312199354172,0.3157676160335541,0.4472885727882385,-0.10914753377437592,0.574230968952179,-0.7939285039901733,0.03597380965948105,-0.47358861565589905,-0.17908936738967896,-0.26264482736587524,-0.14988012611865997,0.8431740999221802,-0.3607828617095947,1.108615756034851,-0.1711868941783905,-0.1955546587705612,-0.30691513419151306,-0.9413248896598816,-0.22264869511127472,-0.03881866857409477,-0.5592352747917175,0.7828676104545593,-0.1874643713235855,1.188031554222107,-0.019907090812921524,-0.05969082564115524,0.5058895945549011,-0.05228804796934128,-0.5634011626243591,-0.674812912940979,0.12599170207977295,0.008707759901881218,-0.025414256379008293,-0.2746938169002533,-0.9150677919387816,0.3976854681968689,0.4479101300239563,0.15761280059814453,-0.045521609485149384,0.5064448714256287,-0.39423269033432007,-0.2495560199022293,-0.4382840096950531,0.35379329323768616,0.3481239974498749,-0.2173525243997574,0.6875603795051575,-0.836014986038208,-0.22225920855998993,-0.4209315776824951,-0.05997559055685997,-0.46836939454078674,0.11684085428714752,-0.07037252187728882,0.3676575720310211,0.2123684138059616,-0.3764008581638336,-0.026898281648755074,-0.3814333379268646,0.17234905064105988,-0.8019343614578247,0.10231444984674454,0.564422607421875,0.7661166191101074,0.30624037981033325,0.10606571286916731,0.2293761521577835,0.006841350346803665,-0.060368068516254425,-0.3002534806728363,-0.3416537642478943,-0.1132088303565979,0.042294397950172424,-0.3658425509929657,-0.6858444809913635,-0.00474447151646018,0.1853839606046677,-0.05276640132069588,-0.3681243062019348,-0.18489262461662292,-0.10614664107561111,0.25710055232048035,0.5330941081047058,0.13351187109947205,0.6438487768173218,0.47980672121047974,0.3825585544109345,-0.42913976311683655,-0.5248986482620239,0.8817477226257324,-0.8794661164283752,-0.33903154730796814,-0.2260931134223938,0.8855504393577576,-0.09517798572778702,-0.9543728828430176,0.8288736939430237,-0.262360155582428,0.19930844008922577,0.06140069663524628,-1.0620969533920288,-0.5829941630363464]}'},\n",
              " Document {'id': 'bikes:009', 'payload': None, 'json': '{\"model\":\"Secto\",\"brand\":\"Peaknetic\",\"price\":430,\"type\":\"Commuter bikes\",\"specs\":{\"material\":\"aluminium\",\"weight\":\"10.0\"},\"description\":\"If you struggle with stiff fingers or a kinked neck or back after a few minutes on the road, this lightweight, aluminum bike alleviates those issues and allows you to enjoy the ride. From the ergonomic grips to the lumbar-supporting seat position, the Roll Low-Entry offers incredible comfort. The rear-inclined seat tube facilitates stability by allowing you to put a foot on the ground to balance at a stop, and the low step-over frame makes it accessible for all ability and mobility levels. The saddle is very soft, with a wide back to support your hip joints and a cutout in the center to redistribute that pressure. Rim brakes deliver satisfactory braking control, and the wide tires provide a smooth, stable ride on paved roads and gravel. Rack and fender mounts facilitate setting up the Roll Low-Entry as your preferred commuter, and the BMX-like handlebar offers space for mounting a flashlight, bell, or phone holder.\",\"description_embeddings\":[-0.16664952039718628,-0.2063026875257492,-0.034138262271881104,0.43560871481895447,0.1205049678683281,0.12354599684476852,-0.4693191647529602,0.12263350188732149,0.31258058547973633,0.09370451420545578,0.703978419303894,0.41598325967788696,-0.03529493138194084,-0.2636379301548004,-0.004773118998855352,-0.8166773915290833,0.2341694533824921,-0.4601539969444275,0.3239958882331848,-0.7379210591316223,0.365695983171463,-0.35214632749557495,-0.07099132984876633,-0.13719114661216736,0.4434279501438141,0.5352736711502075,-0.18671588599681857,-0.09083519876003264,0.07756383717060089,0.1724811494350433,-0.1582617163658142,1.021650791168213,-0.6815377473831177,0.4562207758426666,0.4002249240875244,0.0422809012234211,0.2866964340209961,0.023013560101389885,-0.03820825740695,0.005832246504724026,0.34776315093040466,0.3249019980430603,0.45273879170417786,0.13538911938667297,0.28660333156585693,0.2446160763502121,-0.3181723654270172,-0.3438916802406311,0.3886679708957672,-0.9067330360412598,-0.3041311204433441,0.08124659955501556,-0.5577867031097412,0.669624924659729,0.4223040938377381,-0.569736123085022,0.4733791053295135,0.224546417593956,0.503728985786438,-0.17133836448192596,-0.6459676027297974,0.1544279009103775,0.22464056313037872,0.16189821064472198,-0.008144078776240349,0.3168692886829376,-0.048699915409088135,-0.3125999867916107,0.5261700749397278,0.2089262157678604,0.12742581963539124,0.21274350583553311,0.31730619072914124,-0.07109115272760391,0.14118017256259918,-0.4006716907024383,-0.5940265655517578,0.2703665792942047,0.05047270283102989,-0.3953283429145813,0.09397707134485243,0.4016011655330658,-0.47380346059799194,0.5689047574996948,0.22406630218029025,-0.11725898832082748,-0.6291430592536926,-0.022920599207282063,-0.1960689127445221,-0.15207237005233765,-0.7251094579696655,-0.042215846478939056,0.01704476773738861,0.4431457817554474,-0.38393086194992065,0.21017388999462128,0.9675185680389404,0.18680769205093384,0.5050818920135498,-0.19335946440696716,0.14227385818958282,-0.2655866742134094,0.044228944927453995,0.18243363499641416,-0.09032934159040452,-0.7389333844184875,0.11693955212831496,-0.4568345546722412,-0.13539884984493256,0.5604978203773499,-0.4764316976070404,0.06429380178451538,-0.1918388158082962,-0.0007841592887416482,0.27769720554351807,0.12362731248140336,-0.5410652756690979,0.2556549310684204,-0.07356126606464386,0.3634452521800995,0.3086775839328766,-0.15716157853603363,-0.9945133328437804,0.4135034680366516,0.05564481019973755,0.03474471718072891,-0.6534420847892761,0.6486113667488098,0.32002225518226624,0.34949859976768494,-0.4229324758052826,-0.05146999657154083,-0.16477636992931366,0.21273522078990936,-0.04664992913603783,0.2925264835357666,0.04349971190094948,-0.04616918042302132,0.31558072566986084,-0.04959433525800705,-0.04051774740219116,-0.20190824568271637,-0.6381776332855225,-0.3986167013645172,0.44123831391334534,0.19271212816238403,0.014136500656604769,-0.2389945536851883,-0.10670571029186247,-0.05864258855581283,0.13758261501789093,-0.23729147017002103,0.011785308830440044,-0.27388715744018555,0.35026541352272034,0.2111925333738327,0.03465505689382553,0.40602409839630127,0.00868565309792757,-0.20108623802661896,-0.15312227606773376,0.26666852831840515,-0.28365558385849,0.16646035015583038,0.16021141409873962,0.009030318818986416,0.14259997010231018,-0.553440272808075,-0.329767644405365,0.3324929177761078,-0.4659103155136109,0.2705114781856537,-0.4507778584957123,0.08323109894990921,-0.1140226274728775,-0.1440632790327072,0.3864920139312744,-0.07419010251760483,-0.4478274285793304,0.2158518135547638,0.22139477729797363,-0.09834592789411543,0.29753389954566956,0.17920424044132233,-0.04785304144024849,-0.31066879630088806,0.5793660283088684,-0.44878721237182617,-0.14665819704532623,0.09211679548025133,-0.24987317621707916,-0.4952828884124756,0.4290888905525207,-0.17852619290351868,0.009922481141984464,-0.1769821047782898,-0.031871695071458817,-0.5056659579277039,-0.12348422408103944,0.2767319083213806,0.03957957401871681,0.32067179679870605,-0.07397984713315964,-0.008254103362560272,-0.3879629671573639,0.43516960740089417,0.6624798774719238,0.2215041220188141,0.6165660619735718,-0.4842728078365326,0.035129133611917496,0.054147977381944656,-0.17413683235645294,0.332973837852478,0.10021404922008514,-0.09658268094062804,0.31798285245895386,-0.07906363904476166,0.426999032497406,0.07617734372615814,0.8893951177597046,0.2619000971317291,0.1988524794578552,-0.2756389379501343,-0.4452096223831177,0.23684954643249512,0.07396065443754196,0.5039276480674744,-0.5576323866844177,0.2141376435756683,0.12541531026363373,-0.13743139803409576,0.19294115900993347,0.5541552305221558,-0.28724992275238037,0.7295364737510681,-0.06904128938913345,-0.5700340867042542,0.4428766071796417,-0.01523766852915287,-0.2064412385225296,0.20183491706848145,-0.8391879796981812,0.15186572074890137,-0.46790409088134766,-0.205098494887352,1.010130763053894,0.05146986246109009,-0.8334923386573792,0.014863350428640842,0.4011020064353943,0.022116366773843765,0.14790263772010803,0.06806531548500061,-0.12893275916576383,-0.3034500181674957,-0.212915301322937,0.13539868593215942,0.12247234582901,-0.3698185980319977,-0.34764257073402405,-0.6028926372528076,0.35270848870277405,-0.46746617555618286,-0.5172217488288879,0.324336975812912,0.2514735758304596,0.4935802221298218,-0.2186596393585205,-0.039911702275276184,-0.2540504038333893,-0.003887469181790948,0.30937594175338745,0.05408992990851402,-0.23359520733356476,0.4122900664806366,0.22437359392642975,-0.29944851994514465,-0.31069284677505493,0.06076546013355255,-0.3588801920413971,-0.1149972677230835,0.3417663872241974,0.29716143012046814,0.5590465664863586,0.7806388735771179,0.32620155811309814,0.02541983500123024,-0.989283800125122,-0.8971661925315857,-0.2762988209724426,-0.025646455585956573,-0.6829255223274231,-0.18854786455631256,0.13191932439804077,-0.2055169492959976,0.13725118339061737,0.003572112414985895,0.3893272280693054,0.12526670098304749,0.3850172162055969,-0.6320691108703613,0.4240780174732208,0.04926973581314087,0.5193886160850525,0.30917200446128845,-0.681708812713623,-0.5969948172569275,-0.7877521514892578,0.8372740149497986,0.1590985357761383,-0.1687045842409134,0.26376932859420776,-0.5932562351226807,-0.023889297619462013,0.3522578179836273,-0.649849534034729,0.03388892114162445,0.2455911487340927,-0.4580776691436768,-0.15328846871852875,0.07858148962259293,0.1495731770992279,0.708405077457428,0.3173709511756897,-0.1690488159656525,0.21296745538711548,0.5487204790115356,0.011942521668970583,-0.5575683116912842,-0.35192328691482544,0.16031016409397125,-0.13244546949863434,-0.26010140776634216,0.3141575753688812,0.4606303870677948,-0.04498087614774704,-0.42156073451042175,-0.08530814945697784,0.06453968584537506,0.1299399435520172,-0.07456625998020172,0.09546953439712524,-0.12459956109523772,0.2358658462762833,0.5069992542266846,0.804633617401123,0.30862659215927124,-0.31319403648376465,0.17331477999687195,0.4840829372406006,0.19686712324619293,0.5922431945800781,-0.41037502884864807,-0.14514625072479248,0.26236945390701294,0.291703999042511,0.5152238607406616,0.7968739867210388,-0.7819672226905823,-0.1696084886789322,0.35552120208740234,0.3560597896575928,-0.2920639216899872,-0.5741522312164307,0.8352622389793396,-0.5376262664794922,0.2641073763370514,-0.08054057508707047,-0.4577312171459198,-0.7531251311302185,-0.3667730987071991,0.002376805292442441,-0.4244256019592285,-0.25236257910728455,-0.0811263844370842,-0.4041209816932678,0.06223786622285843,0.0574319064617157,0.3802756071090698,0.40945369005203247,-0.2217303067445755,0.31037092208862305,-0.4107884168624878,-0.004257858730852604,-0.9825067520141602,0.14729437232017517,0.05009106919169426,0.2260989248752594,0.5467522740364075,0.0601620152592659,-0.1235302984714508,0.08226802945137024,0.2076772302389145,0.2714412808418274,-0.05966975167393685,-0.4617685377597809,-0.1832418143749237,0.1344565898180008,0.29829221963882446,0.023825593292713165,-0.1378917694091797,-0.30399397015571594,0.13559706509113312,0.124007485806942,-0.6779319047927856,-0.4810362160205841,-0.11259127408266068,-0.14806930720806122,0.08447815477848053,-0.533774733543396,0.3724324107170105,-0.24255824089050293,-0.017172126099467278,0.3343937397003174,0.10885066539049149,0.4369179308414459,0.5488409399986267,0.25792163610458374,0.013009847141802313,0.09062670916318892,0.3100612461566925,-0.08086583763360977,0.041231852024793625,-0.9971516132354736,-0.5653955340385437,-0.1508859395980835,-0.48186594247817993,0.0179598405957222,-0.22612881660461423,-0.4104900062084198,0.44952353835105896,0.4269848167896271,0.4338193833827973,-0.591709315776825,0.09992638975381853,-0.1411425918340683,-0.4590206444263458,0.44340723752975464,-0.012001415714621544,-0.005535515956580639,-0.13584205508232117,-0.8220314979553223,-0.26634514331817627,-0.17849348485469818,0.4607006907463074,0.26945701241493225,0.13746307790279388,0.5678859949111938,-0.039388447999954224,0.00573577918112278,-0.5108972787857056,0.7797585725784302,0.337171345949173,-0.5691813230514526,-0.15780465304851532,-0.04807122051715851,0.048754286020994186,0.2929186224937439,-0.322070837020874,-0.8666821122169495,0.13852021098136902,0.5201512575149536,0.273075670003891,-0.4060204327106476,-0.05847271531820297,0.45327886939048767,-0.13121873140335083,0.9839220643043518,0.18289826810359955,-0.11917129904031754,-0.03870601579546928,-0.25923946499824524,0.8628060221672058,0.40789100527763367,-0.5044720768928528,-0.08087260276079178,-0.5811786651611328,0.10594800859689713,0.007259448524564505,-0.11748632788658142,-0.12664484977722168,0.3175157308578491,-0.07085562497377396,0.01412572991102934,-0.7177920341491699,-0.21258282661437988,-0.8938530683517456,-0.32215726375579834,-0.05448554828763008,0.372623085975647,0.3680460751056671,-0.6978787779808044,-0.9869819283485411,-0.36028340458869934,0.21288247406482697,0.027678141370415688,-0.6125390529632568,-0.19474360346794128,0.1615162342786789,0.09674470126628876,0.3777454197406769,0.2073325514793396,-0.3126411736011505,-0.15541239082813263,-0.6809742450714111,-0.7547326683998108,-0.21085688471794128,-0.6889382004737854,-0.26450982689857483,0.4902389347553253,0.012352775782346724,-0.3154359757900238,0.5145911574363708,0.25498059391975403,-0.03293980658054352,0.12263736128807068,-0.17056600749492645,0.1474711447954178,-0.5903785228729248,0.2806844711303711,0.5807434320449829,0.136651411652565,0.010826114565134048,0.12864303588867188,-0.39846205711364746,-0.5821720361709595,0.35883966088294983,0.1686238795518875,-0.0906589776277542,-0.11023470014333724,0.1527905911207199,-0.08920879662036896,-0.27236735820770264,-0.5790808796882629,-0.027478786185383797,0.5593634843826294,0.4560844600200653,-0.5310489535331726,-0.09931031614542007,-0.0023555229417979717,0.31590285897254944,-0.8845032453536987,0.4292379319667816,-0.43300747871398926,-0.08486542850732803,0.394719272851944,-0.20717649161815643,0.004943877924233675,0.37597304582595825,0.0659726932644844,0.11260242015123367,-0.34213680028915405,-0.20354309678077695,-0.2680007815361023,0.5642127394676208,0.17460139095783234,-0.45523449778556824,0.0621824748814106,-0.17306110262870789,-0.3188704550266266,-0.1465340405702591,0.04926071688532829,0.2252073585987091,-0.4389581382274628,-0.37135496735572815,0.5055950284004211,0.5328256487846375,-0.07941628247499466,-0.039745528250932693,0.27221208810806274,0.44273075461387634,0.02475728839635849,-0.03711317852139473,0.24959491193294525,-0.7524382472038269,0.09473436325788498,0.0033721786458045244,0.16748034954071045,0.5751644968986511,-0.1834433227777481,-0.7938315868377686,-0.013700917363166807,-0.8615078926086426,-0.29032453894615173,0.23685762286186215,0.9978089928627014,-0.4890725910663605,0.07986974716186523,0.21512921154499057,-0.06027739495038986,0.35071009397506714,-0.3260437846183777,0.5439859628677368,-0.28826048970222473,0.10442560166120528,-0.16930361092090607,0.8616517186164856,-0.3708465993404389,0.354106605052948,0.05495644733309746,0.18502254784107208,-0.2702038884162903,-0.26591670513153076,0.4321483373641968,-0.6518388390541077,-0.28240713477134705,0.3023325800895691,-0.5503548979759216,-0.3418368995189667,-0.02202025055885315,-0.4180241525173187,0.052584510296583176,-0.2397506982088089,-0.18088018894195557,-0.32281172275543213,-0.3156173527240753,0.6804448962211609,0.29429891705513,0.3357803523540497,-0.1978815793991089,-0.13550832867622375,-0.013246281072497368,0.14989860355854034,-0.0714242160320282,-0.061255861073732376,-0.054022349417209625,0.16815772652626038,-0.11239513009786606,0.41584303975105286,0.19304822385311127,-0.6696861386299133,0.5857430696487427,-0.6784327626228333,-0.039381105452775955,-0.15335820615291595,0.3628951609134674,0.04697232320904732,-0.3532913029193878,0.2697814702987671,0.4908932447433472,-0.23913875222206116,0.44844406843185425,0.3640098869800568,0.4425362050533294,-0.08651664853096008,-0.5711371898651123,0.10825442522764206,-0.4988427460193634,-0.1353522092103958,0.1602000594139099,-0.061821095645427704,0.05699142441153526,-0.08035284280776978,0.2120348960161209,0.3095851540565491,-0.6835088729858398,-0.3392673432826996,-0.13501690328121185,-0.3192509412765503,-0.3138531744480133,0.2662642002105713,-0.3544962704181671,-0.1133778914809227,0.3545624613761902,0.21407559514045715,-1.0962353944778442,0.2791677415370941,-0.0032470040023326874,0.16861480474472046,0.3429301083087921,-0.7978054881095886,0.4346227049827576,-0.27990731596946716,0.5650879740715027,-0.5330304503440857,0.4462038576602936,0.544744610786438,-0.508520245552063,1.209127426147461,-0.12933793663978577,-0.13854677975177765,-0.01074079517275095,-0.13643038272857666,-0.3237558603286743,0.015854541212320328,-0.04191906377673149,0.8245964646339417,0.30173784494400024,0.2307612895965576,0.2344917207956314,0.3480800688266754,0.27934491634368896,0.01794377528131008,0.15484489500522614,-0.37572017312049866,0.824345052242279,0.4521273672580719,-0.0959823951125145,-0.09179235994815826,0.5684353709220886,-0.32469049096107483,0.05521928519010544,0.4433203339576721,-0.0382041409611702,0.3913561403751374,-0.0370224267244339,0.4333507716655731,-0.1950509399175644,0.4158492684364319,-0.1178326979279518,-0.5864725112915039,0.40814483165740967,-0.12377048283815384,0.0004640062106773257,-0.2451859414577484,0.16608048975467682,-0.4637478291988373,0.2100163996219635,0.08767880499362946,0.5594251751899719,0.3585795760154724,0.7365266680717468,-0.3805971145629883,0.07840310782194138,-0.03890592232346535,-0.1596996933221817,0.2872249484062195,-1.1524856090545654,0.3186684846878052,0.17155079543590546,0.23280711472034457,0.1276472806930542,0.2613719701766968,-0.2234269678592682,-0.6719675660133362,0.183775395154953,0.0008036301587708294,0.31404954195022583,-0.5372656583786011,-0.4201365113258362,0.017493808642029762,0.29452529549598694,0.8374926447868347,-0.34804680943489075,0.5170480012893677,-0.12238046526908876,0.17209509015083313,-0.1924757957458496,0.06393823027610779,0.2952815592288971,0.0860515683889389,0.10401435941457748,-0.1905285269021988,-0.5429444313049316,0.5854678153991699,-0.3771492540836334,-0.06259387731552124,-0.022820141166448593,-0.0012472247472032905,-0.10704346001148224,-0.5031756162643433,0.5130234360694885,0.01768087036907673,-0.043358214199543,0.01024499349296093,-0.5997225642204285,-0.825780987739563]}'}]"
            ]
          },
          "execution_count": 18,
          "metadata": {},
          "output_type": "execute_result"
        }
      ],
      "source": [
        "query = Query(\"@brand:Peaknetic\")\n",
        "res = client.ft(\"idx:bikes_vss\").search(query).docs\n",
        "res"
      ]
    },
    {
      "cell_type": "markdown",
      "metadata": {
        "id": "uW-7OzF9bXxt"
      },
      "source": [
        "This command will return all matching documents. With the inclusion of the vector embeddings, that's a little too verbose. If we wanted only to return specific fields from our JSON documents, for example, the document id, the brand, model and price, we could use:"
      ]
    },
    {
      "cell_type": "code",
      "execution_count": 60,
      "metadata": {
        "id": "mtANVTdibY97"
      },
      "outputs": [
        {
          "data": {
            "text/plain": [
              "[Document {'id': 'bikes:008', 'payload': None, 'brand': 'Peaknetic', 'model': 'Soothe Electric bike', 'price': '1950'},\n",
              " Document {'id': 'bikes:009', 'payload': None, 'brand': 'Peaknetic', 'model': 'Secto', 'price': '430'}]"
            ]
          },
          "execution_count": 60,
          "metadata": {},
          "output_type": "execute_result"
        }
      ],
      "source": [
        "query = Query(\"@brand:Peaknetic\").return_fields(\"id\", \"brand\", \"model\", \"price\")\n",
        "res = client.ft(\"idx:bikes_vss\").search(query).docs\n",
        "res"
      ]
    },
    {
      "cell_type": "markdown",
      "metadata": {
        "id": "hanNhIImbmw9"
      },
      "source": [
        "Let's say we only wanted bikes under $1000. We can add a numeric range clause to our query since the price field is indexed as NUMERIC:"
      ]
    },
    {
      "cell_type": "code",
      "execution_count": 61,
      "metadata": {
        "id": "3tbzPL4abnkB"
      },
      "outputs": [
        {
          "data": {
            "text/plain": [
              "[Document {'id': 'bikes:009', 'payload': None, 'brand': 'Peaknetic', 'model': 'Secto', 'price': '430'}]"
            ]
          },
          "execution_count": 61,
          "metadata": {},
          "output_type": "execute_result"
        }
      ],
      "source": [
        "query = Query(\"@brand:Peaknetic @price:[0 1000]\").return_fields(\n",
        "    \"id\", \"brand\", \"model\", \"price\"\n",
        ")\n",
        "res = client.ft(\"idx:bikes_vss\").search(query).docs\n",
        "res"
      ]
    },
    {
      "cell_type": "markdown",
      "metadata": {
        "id": "943bJO_Gb0Ib"
      },
      "source": [
        "# **Semantic searching with VSS**\n",
        "Now that the bikes collection is stored and properly indexed in Redis, we want to query it using short query prompts. Let's put our queries in a list so we can execute them in bulk:"
      ]
    },
    {
      "cell_type": "code",
      "execution_count": 62,
      "metadata": {
        "id": "94dj9Vbhb2cN"
      },
      "outputs": [],
      "source": [
        "queries = [\n",
        "    \"Bike for small kids\",\n",
        "    \"Best Mountain bikes for kids\",\n",
        "    \"Cheap Mountain bike for kids\",\n",
        "    \"Female specific mountain bike\",\n",
        "    \"Road bike for beginners\",\n",
        "    \"Commuter bike for people over 60\",\n",
        "    \"Comfortable commuter bike\",\n",
        "    \"Good bike for college students\",\n",
        "    \"Mountain bike for beginners\",\n",
        "    \"Vintage bike\",\n",
        "    \"Comfortable city bike\",\n",
        "]"
      ]
    },
    {
      "cell_type": "markdown",
      "metadata": {
        "id": "txfIlgEKb5Ns"
      },
      "source": [
        "We need to encode the query prompts to query the database using VSS. Just like we did with the descriptions of the bikes, we'll use the SentenceTransformers model to encode the queries:"
      ]
    },
    {
      "cell_type": "code",
      "execution_count": 63,
      "metadata": {
        "id": "G5wFlS9xb7I4"
      },
      "outputs": [
        {
          "data": {
            "text/plain": [
              "11"
            ]
          },
          "execution_count": 63,
          "metadata": {},
          "output_type": "execute_result"
        }
      ],
      "source": [
        "encoded_queries = embedder.encode(queries)\n",
        "len(encoded_queries)"
      ]
    },
    {
      "cell_type": "markdown",
      "metadata": {
        "id": "1AC7vPYxcDwB"
      },
      "source": [
        "# **Constructing a pure K-nearest neighbors (KNN) VSS query**\n",
        "We'll start with a KNN query. KNN is a foundational algorithm used in VSS, where the goal is to find the most similar items to a given query item. Using the chosen distance metric, the KNN algorithm calculates the distance between the query vector and each vector in the database. It then returns the K items with the smallest distances to the query vector. These are the most similar items.\n",
        "\n",
        "The syntax for vector similarity KNN queries is (*)=>[<vector_similarity_query>] where the (*) (the * meaning all) is the filter query for the search engine. That way, one can reduce the search space by filtering the collection on which the KNN algorithm operates."
      ]
    },
    {
      "cell_type": "code",
      "execution_count": 64,
      "metadata": {
        "id": "kmvOfgs8ckyZ"
      },
      "outputs": [],
      "source": [
        "query = (\n",
        "    Query('(*)=>[KNN 3 @vector $query_vector AS vector_score]')\n",
        "     .sort_by('vector_score')\n",
        "     .return_fields('vector_score', 'id', 'brand', 'model', 'description')\n",
        "     .dialect(2)\n",
        ")"
      ]
    },
    {
      "cell_type": "markdown",
      "metadata": {
        "id": "xbLi5bNAcvOv"
      },
      "source": [
        "We pass the vectorized query as $query_vector to the search function to execute the query. The following code shows an example of creating a NumPy array from a vectorized query prompt (encoded_query) as a single precision floating point array and converting it into a compact, byte-level representation that we can pass as a Redis parameter:"
      ]
    },
    {
      "cell_type": "code",
      "execution_count": null,
      "metadata": {
        "id": "VbNZZji3cwG3"
      },
      "outputs": [],
      "source": [
        "#client.ft(INDEX_NAME).search(query, { 'query_vector': np.array(encoded_query, dtype=np.float32).tobytes() }).docs"
      ]
    },
    {
      "cell_type": "markdown",
      "metadata": {
        "id": "-Gu23TshdWJi"
      },
      "source": [
        "With the template for the query in place, we can use Python to execute all query prompts in a loop, passing the vectorized query prompts. Notice that for each result we calculate the vector_score as 1 - doc.vector_score, since we use cosine \"distance\" as the metric, the items with the smallest \"distance\" are closer and therefore more similar to our query.\n",
        "\n",
        "We will then loop over the matched documents and create a list of results we can convert into a Pandas table to visualize the results:"
      ]
    },
    {
      "cell_type": "code",
      "execution_count": 70,
      "metadata": {
        "id": "smGShJBWdYd0"
      },
      "outputs": [],
      "source": [
        "def create_query_table(query, queries, encoded_queries, extra_params={}):\n",
        "    results_list = []\n",
        "    for i, encoded_query in enumerate(encoded_queries):\n",
        "        result_docs = (\n",
        "            client.ft(\"idx:bikes_vss\")\n",
        "            .search(\n",
        "                query,\n",
        "                {\n",
        "                    \"query_vector\": np.array(\n",
        "                        encoded_query, dtype=np.float32\n",
        "                    ).tobytes()\n",
        "                }\n",
        "                | extra_params,\n",
        "            )\n",
        "            .docs\n",
        "        )\n",
        "        for doc in result_docs:\n",
        "            vector_score = round(1 - float(doc.vector_score), 2)\n",
        "            results_list.append(\n",
        "                {\n",
        "                    \"query\": queries[i],\n",
        "                    \"score\": vector_score,\n",
        "                    \"id\": doc.id,\n",
        "                    \"brand\": doc.brand,\n",
        "                    \"model\": doc.model,\n",
        "                    \"description\": doc.description,\n",
        "                }\n",
        "            )\n",
        "\n",
        "    # Optional: convert the table to Markdown using Pandas\n",
        "    queries_table = pd.DataFrame(results_list)\n",
        "    queries_table.sort_values(\n",
        "        by=[\"query\", \"score\"], ascending=[True, False], inplace=True\n",
        "    )\n",
        "    queries_table[\"query\"] = queries_table.groupby(\"query\")[\"query\"].transform(\n",
        "        lambda x: [x.iloc[0]] + [\"\"] * (len(x) - 1)\n",
        "    )\n",
        "    queries_table[\"description\"] = queries_table[\"description\"].apply(\n",
        "        lambda x: (x[:497] + \"...\") if len(x) > 500 else x\n",
        "    )\n",
        "    queries_table.to_markdown(index=False)\n",
        "    return queries_table"
      ]
    },
    {
      "cell_type": "markdown",
      "metadata": {
        "id": "PJobV_UHeQPg"
      },
      "source": [
        "The query results show the individual queries' top 3 matches (our K parameter) along with the bike's id, brand, and model for each query. For example, for the query \"Best Mountain bikes for kids\", the highest similarity score (0.54) and therefore the closest match was the 'Nord' brand 'Chook air 5' bike model"
      ]
    },
    {
      "cell_type": "code",
      "execution_count": 72,
      "metadata": {
        "id": "XNmO0GPjeSgA"
      },
      "outputs": [
        {
          "data": {
            "text/html": [
              "<div>\n",
              "<style scoped>\n",
              "    .dataframe tbody tr th:only-of-type {\n",
              "        vertical-align: middle;\n",
              "    }\n",
              "\n",
              "    .dataframe tbody tr th {\n",
              "        vertical-align: top;\n",
              "    }\n",
              "\n",
              "    .dataframe thead th {\n",
              "        text-align: right;\n",
              "    }\n",
              "</style>\n",
              "<table border=\"1\" class=\"dataframe\">\n",
              "  <thead>\n",
              "    <tr style=\"text-align: right;\">\n",
              "      <th></th>\n",
              "      <th>query</th>\n",
              "      <th>score</th>\n",
              "      <th>id</th>\n",
              "      <th>brand</th>\n",
              "      <th>model</th>\n",
              "      <th>description</th>\n",
              "    </tr>\n",
              "  </thead>\n",
              "  <tbody>\n",
              "    <tr>\n",
              "      <th>3</th>\n",
              "      <td>Best Mountain bikes for kids</td>\n",
              "      <td>0.54</td>\n",
              "      <td>bikes:003</td>\n",
              "      <td>Nord</td>\n",
              "      <td>Chook air 5</td>\n",
              "      <td>The Chook Air 5  gives kids aged six years and...</td>\n",
              "    </tr>\n",
              "    <tr>\n",
              "      <th>4</th>\n",
              "      <td></td>\n",
              "      <td>0.51</td>\n",
              "      <td>bikes:010</td>\n",
              "      <td>nHill</td>\n",
              "      <td>Summit</td>\n",
              "      <td>This budget mountain bike from nHill performs ...</td>\n",
              "    </tr>\n",
              "    <tr>\n",
              "      <th>5</th>\n",
              "      <td></td>\n",
              "      <td>0.46</td>\n",
              "      <td>bikes:001</td>\n",
              "      <td>Velorim</td>\n",
              "      <td>Jigger</td>\n",
              "      <td>Small and powerful, the Jigger is the best rid...</td>\n",
              "    </tr>\n",
              "    <tr>\n",
              "      <th>0</th>\n",
              "      <td>Bike for small kids</td>\n",
              "      <td>0.52</td>\n",
              "      <td>bikes:001</td>\n",
              "      <td>Velorim</td>\n",
              "      <td>Jigger</td>\n",
              "      <td>Small and powerful, the Jigger is the best rid...</td>\n",
              "    </tr>\n",
              "    <tr>\n",
              "      <th>1</th>\n",
              "      <td></td>\n",
              "      <td>0.45</td>\n",
              "      <td>bikes:007</td>\n",
              "      <td>ScramBikes</td>\n",
              "      <td>WattBike</td>\n",
              "      <td>The WattBike is the best e-bike for people who...</td>\n",
              "    </tr>\n",
              "    <tr>\n",
              "      <th>2</th>\n",
              "      <td></td>\n",
              "      <td>0.41</td>\n",
              "      <td>bikes:003</td>\n",
              "      <td>Nord</td>\n",
              "      <td>Chook air 5</td>\n",
              "      <td>The Chook Air 5  gives kids aged six years and...</td>\n",
              "    </tr>\n",
              "    <tr>\n",
              "      <th>6</th>\n",
              "      <td>Cheap Mountain bike for kids</td>\n",
              "      <td>0.49</td>\n",
              "      <td>bikes:003</td>\n",
              "      <td>Nord</td>\n",
              "      <td>Chook air 5</td>\n",
              "      <td>The Chook Air 5  gives kids aged six years and...</td>\n",
              "    </tr>\n",
              "    <tr>\n",
              "      <th>7</th>\n",
              "      <td></td>\n",
              "      <td>0.45</td>\n",
              "      <td>bikes:010</td>\n",
              "      <td>nHill</td>\n",
              "      <td>Summit</td>\n",
              "      <td>This budget mountain bike from nHill performs ...</td>\n",
              "    </tr>\n",
              "    <tr>\n",
              "      <th>8</th>\n",
              "      <td></td>\n",
              "      <td>0.39</td>\n",
              "      <td>bikes:001</td>\n",
              "      <td>Velorim</td>\n",
              "      <td>Jigger</td>\n",
              "      <td>Small and powerful, the Jigger is the best rid...</td>\n",
              "    </tr>\n",
              "    <tr>\n",
              "      <th>30</th>\n",
              "      <td>Comfortable city bike</td>\n",
              "      <td>0.45</td>\n",
              "      <td>bikes:007</td>\n",
              "      <td>ScramBikes</td>\n",
              "      <td>WattBike</td>\n",
              "      <td>The WattBike is the best e-bike for people who...</td>\n",
              "    </tr>\n",
              "    <tr>\n",
              "      <th>31</th>\n",
              "      <td></td>\n",
              "      <td>0.44</td>\n",
              "      <td>bikes:006</td>\n",
              "      <td>Breakout</td>\n",
              "      <td>XBN 2.1 Alloy</td>\n",
              "      <td>The XBN 2.1 Alloy is our entry-level road bike...</td>\n",
              "    </tr>\n",
              "    <tr>\n",
              "      <th>32</th>\n",
              "      <td></td>\n",
              "      <td>0.42</td>\n",
              "      <td>bikes:008</td>\n",
              "      <td>Peaknetic</td>\n",
              "      <td>Soothe Electric bike</td>\n",
              "      <td>The Soothe is an everyday electric bike, from ...</td>\n",
              "    </tr>\n",
              "    <tr>\n",
              "      <th>18</th>\n",
              "      <td>Comfortable commuter bike</td>\n",
              "      <td>0.47</td>\n",
              "      <td>bikes:008</td>\n",
              "      <td>Peaknetic</td>\n",
              "      <td>Soothe Electric bike</td>\n",
              "      <td>The Soothe is an everyday electric bike, from ...</td>\n",
              "    </tr>\n",
              "    <tr>\n",
              "      <th>19</th>\n",
              "      <td></td>\n",
              "      <td>0.47</td>\n",
              "      <td>bikes:007</td>\n",
              "      <td>ScramBikes</td>\n",
              "      <td>WattBike</td>\n",
              "      <td>The WattBike is the best e-bike for people who...</td>\n",
              "    </tr>\n",
              "    <tr>\n",
              "      <th>20</th>\n",
              "      <td></td>\n",
              "      <td>0.41</td>\n",
              "      <td>bikes:006</td>\n",
              "      <td>Breakout</td>\n",
              "      <td>XBN 2.1 Alloy</td>\n",
              "      <td>The XBN 2.1 Alloy is our entry-level road bike...</td>\n",
              "    </tr>\n",
              "    <tr>\n",
              "      <th>15</th>\n",
              "      <td>Commuter bike for people over 60</td>\n",
              "      <td>0.48</td>\n",
              "      <td>bikes:007</td>\n",
              "      <td>ScramBikes</td>\n",
              "      <td>WattBike</td>\n",
              "      <td>The WattBike is the best e-bike for people who...</td>\n",
              "    </tr>\n",
              "    <tr>\n",
              "      <th>16</th>\n",
              "      <td></td>\n",
              "      <td>0.42</td>\n",
              "      <td>bikes:011</td>\n",
              "      <td>BikeShind</td>\n",
              "      <td>ThrillCycle</td>\n",
              "      <td>An artsy,  retro-inspired bicycle that’s as fu...</td>\n",
              "    </tr>\n",
              "    <tr>\n",
              "      <th>17</th>\n",
              "      <td></td>\n",
              "      <td>0.37</td>\n",
              "      <td>bikes:006</td>\n",
              "      <td>Breakout</td>\n",
              "      <td>XBN 2.1 Alloy</td>\n",
              "      <td>The XBN 2.1 Alloy is our entry-level road bike...</td>\n",
              "    </tr>\n",
              "    <tr>\n",
              "      <th>9</th>\n",
              "      <td>Female specific mountain bike</td>\n",
              "      <td>0.47</td>\n",
              "      <td>bikes:005</td>\n",
              "      <td>Noka Bikes</td>\n",
              "      <td>Kahuna</td>\n",
              "      <td>Whether you want to try your hand at XC racing...</td>\n",
              "    </tr>\n",
              "    <tr>\n",
              "      <th>10</th>\n",
              "      <td></td>\n",
              "      <td>0.39</td>\n",
              "      <td>bikes:004</td>\n",
              "      <td>Eva</td>\n",
              "      <td>Eva 291</td>\n",
              "      <td>The sister company to Nord, Eva launched in 20...</td>\n",
              "    </tr>\n",
              "    <tr>\n",
              "      <th>11</th>\n",
              "      <td></td>\n",
              "      <td>0.32</td>\n",
              "      <td>bikes:010</td>\n",
              "      <td>nHill</td>\n",
              "      <td>Summit</td>\n",
              "      <td>This budget mountain bike from nHill performs ...</td>\n",
              "    </tr>\n",
              "    <tr>\n",
              "      <th>21</th>\n",
              "      <td>Good bike for college students</td>\n",
              "      <td>0.47</td>\n",
              "      <td>bikes:007</td>\n",
              "      <td>ScramBikes</td>\n",
              "      <td>WattBike</td>\n",
              "      <td>The WattBike is the best e-bike for people who...</td>\n",
              "    </tr>\n",
              "    <tr>\n",
              "      <th>22</th>\n",
              "      <td></td>\n",
              "      <td>0.43</td>\n",
              "      <td>bikes:006</td>\n",
              "      <td>Breakout</td>\n",
              "      <td>XBN 2.1 Alloy</td>\n",
              "      <td>The XBN 2.1 Alloy is our entry-level road bike...</td>\n",
              "    </tr>\n",
              "    <tr>\n",
              "      <th>23</th>\n",
              "      <td></td>\n",
              "      <td>0.40</td>\n",
              "      <td>bikes:010</td>\n",
              "      <td>nHill</td>\n",
              "      <td>Summit</td>\n",
              "      <td>This budget mountain bike from nHill performs ...</td>\n",
              "    </tr>\n",
              "    <tr>\n",
              "      <th>24</th>\n",
              "      <td>Mountain bike for beginners</td>\n",
              "      <td>0.54</td>\n",
              "      <td>bikes:010</td>\n",
              "      <td>nHill</td>\n",
              "      <td>Summit</td>\n",
              "      <td>This budget mountain bike from nHill performs ...</td>\n",
              "    </tr>\n",
              "    <tr>\n",
              "      <th>25</th>\n",
              "      <td></td>\n",
              "      <td>0.49</td>\n",
              "      <td>bikes:003</td>\n",
              "      <td>Nord</td>\n",
              "      <td>Chook air 5</td>\n",
              "      <td>The Chook Air 5  gives kids aged six years and...</td>\n",
              "    </tr>\n",
              "    <tr>\n",
              "      <th>26</th>\n",
              "      <td></td>\n",
              "      <td>0.42</td>\n",
              "      <td>bikes:008</td>\n",
              "      <td>Peaknetic</td>\n",
              "      <td>Soothe Electric bike</td>\n",
              "      <td>The Soothe is an everyday electric bike, from ...</td>\n",
              "    </tr>\n",
              "    <tr>\n",
              "      <th>12</th>\n",
              "      <td>Road bike for beginners</td>\n",
              "      <td>0.45</td>\n",
              "      <td>bikes:010</td>\n",
              "      <td>nHill</td>\n",
              "      <td>Summit</td>\n",
              "      <td>This budget mountain bike from nHill performs ...</td>\n",
              "    </tr>\n",
              "    <tr>\n",
              "      <th>13</th>\n",
              "      <td></td>\n",
              "      <td>0.44</td>\n",
              "      <td>bikes:008</td>\n",
              "      <td>Peaknetic</td>\n",
              "      <td>Soothe Electric bike</td>\n",
              "      <td>The Soothe is an everyday electric bike, from ...</td>\n",
              "    </tr>\n",
              "    <tr>\n",
              "      <th>14</th>\n",
              "      <td></td>\n",
              "      <td>0.44</td>\n",
              "      <td>bikes:011</td>\n",
              "      <td>BikeShind</td>\n",
              "      <td>ThrillCycle</td>\n",
              "      <td>An artsy,  retro-inspired bicycle that’s as fu...</td>\n",
              "    </tr>\n",
              "    <tr>\n",
              "      <th>27</th>\n",
              "      <td>Vintage bike</td>\n",
              "      <td>0.42</td>\n",
              "      <td>bikes:011</td>\n",
              "      <td>BikeShind</td>\n",
              "      <td>ThrillCycle</td>\n",
              "      <td>An artsy,  retro-inspired bicycle that’s as fu...</td>\n",
              "    </tr>\n",
              "    <tr>\n",
              "      <th>28</th>\n",
              "      <td></td>\n",
              "      <td>0.41</td>\n",
              "      <td>bikes:007</td>\n",
              "      <td>ScramBikes</td>\n",
              "      <td>WattBike</td>\n",
              "      <td>The WattBike is the best e-bike for people who...</td>\n",
              "    </tr>\n",
              "    <tr>\n",
              "      <th>29</th>\n",
              "      <td></td>\n",
              "      <td>0.35</td>\n",
              "      <td>bikes:006</td>\n",
              "      <td>Breakout</td>\n",
              "      <td>XBN 2.1 Alloy</td>\n",
              "      <td>The XBN 2.1 Alloy is our entry-level road bike...</td>\n",
              "    </tr>\n",
              "  </tbody>\n",
              "</table>\n",
              "</div>"
            ],
            "text/plain": [
              "                               query  score         id       brand  \\\n",
              "3       Best Mountain bikes for kids   0.54  bikes:003        Nord   \n",
              "4                                      0.51  bikes:010       nHill   \n",
              "5                                      0.46  bikes:001     Velorim   \n",
              "0                Bike for small kids   0.52  bikes:001     Velorim   \n",
              "1                                      0.45  bikes:007  ScramBikes   \n",
              "2                                      0.41  bikes:003        Nord   \n",
              "6       Cheap Mountain bike for kids   0.49  bikes:003        Nord   \n",
              "7                                      0.45  bikes:010       nHill   \n",
              "8                                      0.39  bikes:001     Velorim   \n",
              "30             Comfortable city bike   0.45  bikes:007  ScramBikes   \n",
              "31                                     0.44  bikes:006    Breakout   \n",
              "32                                     0.42  bikes:008   Peaknetic   \n",
              "18         Comfortable commuter bike   0.47  bikes:008   Peaknetic   \n",
              "19                                     0.47  bikes:007  ScramBikes   \n",
              "20                                     0.41  bikes:006    Breakout   \n",
              "15  Commuter bike for people over 60   0.48  bikes:007  ScramBikes   \n",
              "16                                     0.42  bikes:011   BikeShind   \n",
              "17                                     0.37  bikes:006    Breakout   \n",
              "9      Female specific mountain bike   0.47  bikes:005  Noka Bikes   \n",
              "10                                     0.39  bikes:004         Eva   \n",
              "11                                     0.32  bikes:010       nHill   \n",
              "21    Good bike for college students   0.47  bikes:007  ScramBikes   \n",
              "22                                     0.43  bikes:006    Breakout   \n",
              "23                                     0.40  bikes:010       nHill   \n",
              "24       Mountain bike for beginners   0.54  bikes:010       nHill   \n",
              "25                                     0.49  bikes:003        Nord   \n",
              "26                                     0.42  bikes:008   Peaknetic   \n",
              "12           Road bike for beginners   0.45  bikes:010       nHill   \n",
              "13                                     0.44  bikes:008   Peaknetic   \n",
              "14                                     0.44  bikes:011   BikeShind   \n",
              "27                      Vintage bike   0.42  bikes:011   BikeShind   \n",
              "28                                     0.41  bikes:007  ScramBikes   \n",
              "29                                     0.35  bikes:006    Breakout   \n",
              "\n",
              "                   model                                        description  \n",
              "3            Chook air 5  The Chook Air 5  gives kids aged six years and...  \n",
              "4                 Summit  This budget mountain bike from nHill performs ...  \n",
              "5                 Jigger  Small and powerful, the Jigger is the best rid...  \n",
              "0                 Jigger  Small and powerful, the Jigger is the best rid...  \n",
              "1               WattBike  The WattBike is the best e-bike for people who...  \n",
              "2            Chook air 5  The Chook Air 5  gives kids aged six years and...  \n",
              "6            Chook air 5  The Chook Air 5  gives kids aged six years and...  \n",
              "7                 Summit  This budget mountain bike from nHill performs ...  \n",
              "8                 Jigger  Small and powerful, the Jigger is the best rid...  \n",
              "30              WattBike  The WattBike is the best e-bike for people who...  \n",
              "31         XBN 2.1 Alloy  The XBN 2.1 Alloy is our entry-level road bike...  \n",
              "32  Soothe Electric bike  The Soothe is an everyday electric bike, from ...  \n",
              "18  Soothe Electric bike  The Soothe is an everyday electric bike, from ...  \n",
              "19              WattBike  The WattBike is the best e-bike for people who...  \n",
              "20         XBN 2.1 Alloy  The XBN 2.1 Alloy is our entry-level road bike...  \n",
              "15              WattBike  The WattBike is the best e-bike for people who...  \n",
              "16           ThrillCycle  An artsy,  retro-inspired bicycle that’s as fu...  \n",
              "17         XBN 2.1 Alloy  The XBN 2.1 Alloy is our entry-level road bike...  \n",
              "9                 Kahuna  Whether you want to try your hand at XC racing...  \n",
              "10               Eva 291  The sister company to Nord, Eva launched in 20...  \n",
              "11                Summit  This budget mountain bike from nHill performs ...  \n",
              "21              WattBike  The WattBike is the best e-bike for people who...  \n",
              "22         XBN 2.1 Alloy  The XBN 2.1 Alloy is our entry-level road bike...  \n",
              "23                Summit  This budget mountain bike from nHill performs ...  \n",
              "24                Summit  This budget mountain bike from nHill performs ...  \n",
              "25           Chook air 5  The Chook Air 5  gives kids aged six years and...  \n",
              "26  Soothe Electric bike  The Soothe is an everyday electric bike, from ...  \n",
              "12                Summit  This budget mountain bike from nHill performs ...  \n",
              "13  Soothe Electric bike  The Soothe is an everyday electric bike, from ...  \n",
              "14           ThrillCycle  An artsy,  retro-inspired bicycle that’s as fu...  \n",
              "27           ThrillCycle  An artsy,  retro-inspired bicycle that’s as fu...  \n",
              "28              WattBike  The WattBike is the best e-bike for people who...  \n",
              "29         XBN 2.1 Alloy  The XBN 2.1 Alloy is our entry-level road bike...  "
            ]
          },
          "execution_count": 72,
          "metadata": {},
          "output_type": "execute_result"
        }
      ],
      "source": [
        "query = (\n",
        "    Query(\"(*)=>[KNN 3 @vector $query_vector AS vector_score]\")\n",
        "    .sort_by(\"vector_score\")\n",
        "    .return_fields(\"vector_score\", \"id\", \"brand\", \"model\", \"description\")\n",
        "    .dialect(2)\n",
        ")\n",
        "create_query_table(query, queries, encoded_queries)"
      ]
    },
    {
      "cell_type": "markdown",
      "metadata": {},
      "source": [
        "### **Hybrid queries**\n",
        "<br>Pure KNN queries, as described in the previous section, evaluate a query against the whole space of vectors in a data collection. The larger the collection, the more computationally expensive the KNN search will be. But in the real world, unstructured data does not live in isolation, and users expecting rich search experiences need to be able to search via a combination of structured and unstructured data.\n",
        "\n",
        "For example, users might arrive at your search interface with a brand preference in mind for the bikes dataset. Redis VSS queries can use this information to pre-filter the search space using a primary filter query. In the following query definition, we pre-filter using brand to consider only Peaknetic brand bikes. Before, our primary filter query was (*), in other words, everything. But now we can narrow the search space using (@brand:Peaknetic) before the KNN query.\n",
        "\n",
        "Filtering by the Peaknetic brand, for which there are 2 bikes in our collection, we can see the results returned for each of the query prompts. The query with the highest returned similarity score is \"Comfortable commuter bike\", followed by \"Road bike for beginners\". Using filtering by brand, we fulfill the users' preferences and reduce the KNN search space by 80%."
      ]
    },
    {
      "cell_type": "code",
      "execution_count": null,
      "metadata": {},
      "outputs": [],
      "source": [
        "hybrid_query = (\n",
        "    Query(\"(@brand:Peaknetic)=>[KNN 3 @vector $query_vector AS vector_score]\")\n",
        "    .sort_by(\"vector_score\")\n",
        "    .return_fields(\"vector_score\", \"id\", \"brand\", \"model\", \"description\")\n",
        "    .dialect(2)\n",
        ")\n",
        "create_query_table(hybrid_query, queries, encoded_queries)"
      ]
    },
    {
      "cell_type": "markdown",
      "metadata": {},
      "source": [
        "### **Creating a VSS range query**\n",
        "\n",
        "Range queries in VSS involve retrieving items within a specific distance from a query vector. In this case, we consider \"distance\" to be the measure of similarity we've used to build our search indexes; the smaller the distance, the more similar the items.\n",
        "\n",
        "Let's say you want to find the bikes whose descriptions are within a certain distance from a query vector. We can use a range query to achieve this. For example, the query command to return the top 4 documents within a 0.55 radius of a vectorized query would be as follows:"
      ]
    },
    {
      "cell_type": "code",
      "execution_count": null,
      "metadata": {},
      "outputs": [],
      "source": [
        "range_query = (\n",
        "    Query(\n",
        "        \"@vector:[VECTOR_RANGE $range $query_vector]=>{$YIELD_DISTANCE_AS: vector_score}\"\n",
        "    )\n",
        "    .sort_by(\"vector_score\")\n",
        "    .return_fields(\"vector_score\", \"id\", \"brand\", \"model\", \"description\")\n",
        "    .paging(0, 4)\n",
        "    .dialect(2)\n",
        ")\n",
        "create_query_table(\n",
        "    range_query, queries[:1], encoded_queries[:1], {\"range\": 0.55}\n",
        ")"
      ]
    }
  ],
  "metadata": {
    "colab": {
      "provenance": []
    },
    "kernelspec": {
      "display_name": "Python 3",
      "name": "python3"
    },
    "language_info": {
      "codemirror_mode": {
        "name": "ipython",
        "version": 3
      },
      "file_extension": ".py",
      "mimetype": "text/x-python",
      "name": "python",
      "nbconvert_exporter": "python",
      "pygments_lexer": "ipython3",
      "version": "3.11.4"
    }
  },
  "nbformat": 4,
  "nbformat_minor": 0
}
